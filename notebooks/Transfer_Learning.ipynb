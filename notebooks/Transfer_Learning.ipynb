{
  "cells": [
    {
      "cell_type": "markdown",
      "metadata": {
        "id": "sLMSHWM-oiyf"
      },
      "source": [
        "# Transfer Learning with skorch"
      ]
    },
    {
      "cell_type": "markdown",
      "metadata": {
        "id": "2KJVmPqYoiyj"
      },
      "source": [
        "In this tutorial, you will learn how to train a neural network using transfer learning with the `skorch` API. Transfer learning uses a pretrained model to initialize a network. This tutorial converts the pure PyTorch approach described in [PyTorch's Transfer Learning Tutorial](https://pytorch.org/tutorials/beginner/transfer_learning_tutorial.html) to `skorch`.\n",
        "\n",
        "We will be using `torchvision` for this tutorial. Instructions on how to install `torchvision` for your platform can be found at https://pytorch.org.\n",
        "\n",
        "<table align=\"left\"><td>\n",
        "<a target=\"_blank\" href=\"https://colab.research.google.com/github/skorch-dev/skorch/blob/master/notebooks/Transfer_Learning.ipynb\">\n",
        "    <img src=\"https://www.tensorflow.org/images/colab_logo_32px.png\" />Run in Google Colab</a>  \n",
        "</td><td>\n",
        "<a target=\"_blank\" href=\"https://github.com/skorch-dev/skorch/blob/master/notebooks/Transfer_Learning.ipynb\"><img width=32px src=\"https://www.tensorflow.org/images/GitHub-Mark-32px.png\" />View source on GitHub</a></td></table>"
      ]
    },
    {
      "cell_type": "markdown",
      "metadata": {
        "id": "uFUihT98oiyp"
      },
      "source": [
        "**Note**: If you are running this in [a colab notebook](https://colab.research.google.com/github/skorch-dev/skorch/blob/master/notebooks/Transfer_Learning.ipynb), we recommend you enable a free GPU by going:\n",
        "\n",
        "> **Runtime**   →   **Change runtime type**   →   **Hardware Accelerator: GPU**\n",
        "\n",
        "If you are running in colab, you should install the dependencies and download the dataset by running the following cell:"
      ]
    },
    {
      "cell_type": "code",
      "execution_count": 1,
      "metadata": {
        "id": "i1U_Mi4gon2r"
      },
      "outputs": [],
      "source": [
        "import subprocess\n",
        "\n",
        "# Installation on Google Colab\n",
        "try:\n",
        "    import os\n",
        "    import google.colab\n",
        "    subprocess.run(['python', '-m', 'pip', 'install', 'skorch', 'torchvision'])\n",
        "    subprocess.run(['mkdir', '-p', 'datasets'])\n",
        "    subprocess.run(['wget', '-nc', '--no-check-certificate', 'https://download.pytorch.org/tutorial/hymenoptera_data.zip', '-P', 'datasets'])\n",
        "    subprocess.run(['unzip', '-u', 'datasets/hymenoptera_data.zip', '-d' 'datasets'])\n",
        "except ImportError:\n",
        "    pass"
      ]
    },
    {
      "cell_type": "code",
      "execution_count": 2,
      "metadata": {
        "id": "8EctsAZCoiyy"
      },
      "outputs": [],
      "source": [
        "import os\n",
        "from urllib import request\n",
        "from zipfile import ZipFile\n",
        "\n",
        "import torch\n",
        "import torch.nn as nn\n",
        "import torch.optim as optim\n",
        "import numpy as np\n",
        "from torchvision import datasets, models, transforms\n",
        "\n",
        "from skorch import NeuralNetClassifier\n",
        "from skorch.helper import predefined_split\n",
        "\n",
        "torch.manual_seed(360);"
      ]
    },
    {
      "cell_type": "markdown",
      "metadata": {
        "id": "_vaY9ew5oiy1"
      },
      "source": [
        "## Preparations"
      ]
    },
    {
      "cell_type": "markdown",
      "metadata": {
        "id": "Ybj2whoboiy3"
      },
      "source": [
        "Before we begin, lets download the data needed for this tutorial:"
      ]
    },
    {
      "cell_type": "code",
      "execution_count": 3,
      "metadata": {
        "colab": {
          "base_uri": "https://localhost:8080/"
        },
        "id": "vXrGCvunoiy4",
        "outputId": "7c61a5f9-a77b-45ab-a094-079fe2fbd891"
      },
      "outputs": [
        {
          "output_type": "stream",
          "name": "stdout",
          "text": [
            "Data has been downloaded and extracted to datasets.\n"
          ]
        }
      ],
      "source": [
        "def download_and_extract_data(dataset_dir='datasets'):\n",
        "    data_zip = os.path.join(dataset_dir, 'hymenoptera_data.zip')\n",
        "    data_path = os.path.join(dataset_dir, 'hymenoptera_data')\n",
        "    url = \"https://download.pytorch.org/tutorial/hymenoptera_data.zip\"\n",
        "\n",
        "    if not os.path.exists(data_path):\n",
        "        if not os.path.exists(data_zip):\n",
        "            print(\"Starting to download data...\")\n",
        "            data = request.urlopen(url, timeout=15).read()\n",
        "            with open(data_zip, 'wb') as f:\n",
        "                f.write(data)\n",
        "\n",
        "        print(\"Starting to extract data...\")\n",
        "        with ZipFile(data_zip, 'r') as zip_f:\n",
        "            zip_f.extractall(dataset_dir)\n",
        "        \n",
        "    print(\"Data has been downloaded and extracted to {}.\".format(dataset_dir))\n",
        "    \n",
        "download_and_extract_data()"
      ]
    },
    {
      "cell_type": "markdown",
      "metadata": {
        "id": "V0K5OAKPoiy7"
      },
      "source": [
        "## The Problem"
      ]
    },
    {
      "cell_type": "markdown",
      "metadata": {
        "id": "m52cP6kaoiy8"
      },
      "source": [
        "We are going to train a neural network to classify **ants** and **bees**. The dataset consist of 120 training images and 75 validiation images for each class. First we create the training and validiation datasets:"
      ]
    },
    {
      "cell_type": "code",
      "execution_count": 4,
      "metadata": {
        "id": "y3lg-xiaoiy9"
      },
      "outputs": [],
      "source": [
        "data_dir = 'datasets/hymenoptera_data'\n",
        "train_transforms = transforms.Compose([\n",
        "    transforms.RandomResizedCrop(224),\n",
        "    transforms.RandomHorizontalFlip(),\n",
        "    transforms.ToTensor(),\n",
        "    transforms.Normalize([0.485, 0.456, 0.406], \n",
        "                         [0.229, 0.224, 0.225])\n",
        "])\n",
        "val_transforms = transforms.Compose([\n",
        "    transforms.Resize(256),\n",
        "    transforms.CenterCrop(224),\n",
        "    transforms.ToTensor(),\n",
        "    transforms.Normalize([0.485, 0.456, 0.406], \n",
        "                         [0.229, 0.224, 0.225])\n",
        "])\n",
        "\n",
        "train_ds = datasets.ImageFolder(\n",
        "    os.path.join(data_dir, 'train'), train_transforms)\n",
        "val_ds = datasets.ImageFolder(\n",
        "    os.path.join(data_dir, 'val'), val_transforms)"
      ]
    },
    {
      "cell_type": "markdown",
      "metadata": {
        "id": "qfbGs4wfoiy_"
      },
      "source": [
        "The train dataset includes data augmentation techniques such as cropping to size 224 and horizontal flips.The train and validiation datasets are normalized with mean: `[0.485, 0.456, 0.406]`, and standard deviation: `[0.229, 0.224, 0.225]`. These values are the means and standard deviations of the ImageNet images. We used these values because the pretrained model was trained on ImageNet."
      ]
    },
    {
      "cell_type": "markdown",
      "metadata": {
        "id": "APIEJMARoizA"
      },
      "source": [
        "## Loading pretrained model"
      ]
    },
    {
      "cell_type": "markdown",
      "metadata": {
        "id": "TUNjvYdwoizA"
      },
      "source": [
        "We use a pretrained `ResNet18` neural network model with its final layer replaced with a fully connected layer:"
      ]
    },
    {
      "cell_type": "code",
      "execution_count": 5,
      "metadata": {
        "id": "cegvloOPoizB"
      },
      "outputs": [],
      "source": [
        "class PretrainedModel(nn.Module):\n",
        "    def __init__(self, output_features):\n",
        "        super().__init__()\n",
        "        model = models.resnet18(pretrained=True)\n",
        "        num_ftrs = model.fc.in_features\n",
        "        model.fc = nn.Linear(num_ftrs, output_features)\n",
        "        self.model = model\n",
        "        \n",
        "    def forward(self, x):\n",
        "        return self.model(x)"
      ]
    },
    {
      "cell_type": "markdown",
      "metadata": {
        "id": "al8ehonloizD"
      },
      "source": [
        "Since we are training a binary classifier, the output of the final fully connected layer has size 2."
      ]
    },
    {
      "cell_type": "markdown",
      "metadata": {
        "id": "vNmUTqT6oizD"
      },
      "source": [
        "## Using skorch's API"
      ]
    },
    {
      "cell_type": "markdown",
      "metadata": {
        "id": "j2hJ-CUUoizE"
      },
      "source": [
        "In this section, we will create a `skorch.NeuralNetClassifier` to solve our classification problem. "
      ]
    },
    {
      "cell_type": "markdown",
      "metadata": {
        "id": "ob1FqKNloizF"
      },
      "source": [
        "### Callbacks"
      ]
    },
    {
      "cell_type": "markdown",
      "metadata": {
        "id": "aHVRYecRoizF"
      },
      "source": [
        "First, we create a `LRScheduler` callback which is a learning rate scheduler that uses `torch.optim.lr_scheduler.StepLR` to scale learning rates by `gamma=0.1` every 7 steps:"
      ]
    },
    {
      "cell_type": "code",
      "execution_count": 6,
      "metadata": {
        "id": "ZJEUie2VoizG"
      },
      "outputs": [],
      "source": [
        "from skorch.callbacks import LRScheduler\n",
        "\n",
        "lrscheduler = LRScheduler(\n",
        "    policy='StepLR', step_size=7, gamma=0.1)"
      ]
    },
    {
      "cell_type": "markdown",
      "metadata": {
        "id": "Bli6ngl5oizG"
      },
      "source": [
        "Next, we create a `Checkpoint` callback which saves the best model by by monitoring the validation accuracy. "
      ]
    },
    {
      "cell_type": "code",
      "execution_count": 7,
      "metadata": {
        "id": "rGPmqqhWoizH"
      },
      "outputs": [],
      "source": [
        "from skorch.callbacks import Checkpoint\n",
        "\n",
        "checkpoint = Checkpoint(\n",
        "    f_params='best_model.pt', monitor='valid_acc_best')"
      ]
    },
    {
      "cell_type": "markdown",
      "metadata": {
        "id": "XQS39O_GoizJ"
      },
      "source": [
        "Lastly, we create a `Freezer` to freeze all weights besides the final layer named `model.fc`:"
      ]
    },
    {
      "cell_type": "code",
      "execution_count": 8,
      "metadata": {
        "id": "kXOe41FBoizJ"
      },
      "outputs": [],
      "source": [
        "from skorch.callbacks import Freezer\n",
        "\n",
        "freezer = Freezer(lambda x: not x.startswith('model.fc'))"
      ]
    },
    {
      "cell_type": "markdown",
      "metadata": {
        "id": "4_JqX5wEoizK"
      },
      "source": [
        "### skorch.NeuralNetClassifier"
      ]
    },
    {
      "cell_type": "markdown",
      "metadata": {
        "id": "2ahqnHCZoizL"
      },
      "source": [
        "With all the preparations out of the way, we can now define our `NeuralNetClassifier`:"
      ]
    },
    {
      "cell_type": "code",
      "execution_count": 9,
      "metadata": {
        "id": "xQCwRTaZoizL"
      },
      "outputs": [],
      "source": [
        "net = NeuralNetClassifier(\n",
        "    PretrainedModel, \n",
        "    criterion=nn.CrossEntropyLoss,\n",
        "    lr=0.001,\n",
        "    batch_size=4,\n",
        "    max_epochs=25,\n",
        "    module__output_features=2,\n",
        "    optimizer=optim.SGD,\n",
        "    optimizer__momentum=0.9,\n",
        "    iterator_train__shuffle=True,\n",
        "    iterator_train__num_workers=2,\n",
        "    iterator_valid__shuffle=True,\n",
        "    iterator_valid__num_workers=2,\n",
        "    train_split=predefined_split(val_ds),\n",
        "    callbacks=[lrscheduler, checkpoint, freezer],\n",
        "    device='cuda' # comment to train on cpu\n",
        ")"
      ]
    },
    {
      "cell_type": "markdown",
      "metadata": {
        "id": "ZggANL3DoizL"
      },
      "source": [
        "That is quite a few parameters! Lets walk through each one:\n",
        "\n",
        "1. `model_ft`: Our `ResNet18` neural network\n",
        "2. `criterion=nn.CrossEntropyLoss`: loss function\n",
        "3. `lr`: Initial learning rate\n",
        "4. `batch_size`: Size of a batch\n",
        "5. `max_epochs`: Number of epochs to train\n",
        "6. `module__output_features`: Used by `__init__` in our `PretrainedModel` class to set the number of classes.\n",
        "7. `optimizer`: Our optimizer\n",
        "8. `optimizer__momentum`: The initial momentum\n",
        "9. `iterator_{train,valid}__{shuffle,num_workers}`: Parameters that are passed to the dataloader.\n",
        "10. `train_split`: A wrapper around `val_ds` to use our validation dataset.\n",
        "11. `callbacks`: Our callbacks \n",
        "12. `device`: Set to `cuda` to train on gpu.\n",
        "\n",
        "Now we are ready to train our neural network:"
      ]
    },
    {
      "cell_type": "code",
      "execution_count": 10,
      "metadata": {
        "colab": {
          "base_uri": "https://localhost:8080/",
          "height": 678,
          "referenced_widgets": [
            "64f19888d3804aaabdc6e112a4bf7346",
            "ab0cdc1301da47a398f6b4e6ca492560",
            "4bf214af02964c659439fc5a7329b0c3",
            "1bbecba9d82942cdbf111b5c44cb9310",
            "31a353ae054248659cd788cfe7d3c433",
            "5e2b7261ff844cb7b915b272c387a597",
            "9798b4ac3bed4b26ba68da4bed0959f5",
            "1ffa864b4e23422282c6396362344fe7",
            "fa5852e5610b4550ac0a134c60398a88",
            "dc6606d7ac1b479eae2892bcd8192655",
            "6242dfed472b43008e36e899ff0ee7ea"
          ]
        },
        "id": "sYjoTUdyoizM",
        "outputId": "92177a73-de22-4f4a-afae-f4a80ed2a148"
      },
      "outputs": [
        {
          "output_type": "stream",
          "name": "stderr",
          "text": [
            "/usr/local/lib/python3.8/dist-packages/torchvision/models/_utils.py:208: UserWarning: The parameter 'pretrained' is deprecated since 0.13 and may be removed in the future, please use 'weights' instead.\n",
            "  warnings.warn(\n",
            "/usr/local/lib/python3.8/dist-packages/torchvision/models/_utils.py:223: UserWarning: Arguments other than a weight enum or `None` for 'weights' are deprecated since 0.13 and may be removed in the future. The current behavior is equivalent to passing `weights=ResNet18_Weights.IMAGENET1K_V1`. You can also use `weights=ResNet18_Weights.DEFAULT` to get the most up-to-date weights.\n",
            "  warnings.warn(msg)\n",
            "Downloading: \"https://download.pytorch.org/models/resnet18-f37072fd.pth\" to /root/.cache/torch/hub/checkpoints/resnet18-f37072fd.pth\n"
          ]
        },
        {
          "output_type": "display_data",
          "data": {
            "text/plain": [
              "  0%|          | 0.00/44.7M [00:00<?, ?B/s]"
            ],
            "application/vnd.jupyter.widget-view+json": {
              "version_major": 2,
              "version_minor": 0,
              "model_id": "64f19888d3804aaabdc6e112a4bf7346"
            }
          },
          "metadata": {}
        },
        {
          "output_type": "stream",
          "name": "stderr",
          "text": [
            "/usr/local/lib/python3.8/dist-packages/skorch/net.py:1918: UserWarning: You set iterator_valid__shuffle=True; this is most likely not what you want because the values returned by predict and predict_proba will be shuffled.\n",
            "  warnings.warn(\n"
          ]
        },
        {
          "output_type": "stream",
          "name": "stdout",
          "text": [
            "  epoch    train_loss    valid_acc    valid_loss    cp      lr      dur\n",
            "-------  ------------  -----------  ------------  ----  ------  -------\n",
            "      1        \u001b[36m0.6488\u001b[0m       \u001b[32m0.9477\u001b[0m        \u001b[35m0.1860\u001b[0m     +  0.0010  10.1772\n",
            "      2        \u001b[36m0.5174\u001b[0m       0.9346        \u001b[35m0.1772\u001b[0m        0.0010  3.0117\n",
            "      3        \u001b[36m0.4102\u001b[0m       0.9412        0.2057        0.0010  3.0619\n",
            "      4        0.5289       0.9346        0.1780        0.0010  3.1133\n",
            "      5        0.5038       0.7778        0.5512        0.0010  3.1258\n",
            "      6        \u001b[36m0.3443\u001b[0m       0.9216        0.2027        0.0010  3.1317\n",
            "      7        0.4674       0.8889        0.2533        0.0010  3.1498\n",
            "      8        0.4047       0.9477        0.1787        0.0001  3.1892\n",
            "      9        \u001b[36m0.3185\u001b[0m       0.9477        0.1899        0.0001  3.0582\n",
            "     10        0.4256       0.9281        0.1848        0.0001  3.0764\n",
            "     11        0.4257       0.9346        \u001b[35m0.1745\u001b[0m        0.0001  3.0541\n",
            "     12        0.3571       0.9477        0.1862        0.0001  3.0713\n",
            "     13        0.3512       0.9477        0.2000        0.0001  3.0415\n",
            "     14        \u001b[36m0.3057\u001b[0m       \u001b[32m0.9542\u001b[0m        0.1770     +  0.0001  3.0032\n",
            "     15        0.4113       0.9477        0.1931        0.0000  3.0975\n",
            "     16        \u001b[36m0.2897\u001b[0m       0.9412        0.1848        0.0000  3.1317\n",
            "     17        0.3389       0.9346        0.1978        0.0000  3.1318\n",
            "     18        0.2991       0.9281        0.1944        0.0000  3.0785\n",
            "     19        0.3252       0.9477        0.1875        0.0000  3.0959\n",
            "     20        0.3819       0.9477        0.1812        0.0000  3.0997\n",
            "     21        0.3018       0.9412        0.1837        0.0000  3.0898\n",
            "     22        0.3166       0.9346        0.1938        0.0000  3.0602\n",
            "     23        0.3611       0.9477        0.1786        0.0000  3.0860\n",
            "     24        0.3278       0.9216        0.1904        0.0000  3.0813\n",
            "     25        \u001b[36m0.2742\u001b[0m       0.9477        \u001b[35m0.1730\u001b[0m        0.0000  3.1189\n"
          ]
        }
      ],
      "source": [
        "net.fit(train_ds, y=None);"
      ]
    },
    {
      "cell_type": "markdown",
      "metadata": {
        "id": "bqhhXTKFoizN"
      },
      "source": [
        "The best model is stored at `best_model.pt`, with a validiation accuracy of roughly 0.96.\n",
        "\n",
        "Congrualations! You now know how to finetune a neural network using `skorch`. Feel free to explore the other tutorials to learn more about using `skorch`."
      ]
    }
  ],
  "metadata": {
    "accelerator": "GPU",
    "colab": {
      "provenance": []
    },
    "gpuClass": "standard",
    "kernelspec": {
      "display_name": "base",
      "language": "python",
      "name": "python3"
    },
    "language_info": {
      "codemirror_mode": {
        "name": "ipython",
        "version": 3
      },
      "file_extension": ".py",
      "mimetype": "text/x-python",
      "name": "python",
      "nbconvert_exporter": "python",
      "pygments_lexer": "ipython3",
      "version": "3.7.13 (default, Mar 28 2022, 08:03:21) [MSC v.1916 64 bit (AMD64)]"
    },
    "vscode": {
      "interpreter": {
        "hash": "bd97b8bffa4d3737e84826bc3d37be3046061822757ce35137ab82ad4c5a2016"
      }
    },
    "widgets": {
      "application/vnd.jupyter.widget-state+json": {
        "64f19888d3804aaabdc6e112a4bf7346": {
          "model_module": "@jupyter-widgets/controls",
          "model_name": "HBoxModel",
          "model_module_version": "1.5.0",
          "state": {
            "_dom_classes": [],
            "_model_module": "@jupyter-widgets/controls",
            "_model_module_version": "1.5.0",
            "_model_name": "HBoxModel",
            "_view_count": null,
            "_view_module": "@jupyter-widgets/controls",
            "_view_module_version": "1.5.0",
            "_view_name": "HBoxView",
            "box_style": "",
            "children": [
              "IPY_MODEL_ab0cdc1301da47a398f6b4e6ca492560",
              "IPY_MODEL_4bf214af02964c659439fc5a7329b0c3",
              "IPY_MODEL_1bbecba9d82942cdbf111b5c44cb9310"
            ],
            "layout": "IPY_MODEL_31a353ae054248659cd788cfe7d3c433"
          }
        },
        "ab0cdc1301da47a398f6b4e6ca492560": {
          "model_module": "@jupyter-widgets/controls",
          "model_name": "HTMLModel",
          "model_module_version": "1.5.0",
          "state": {
            "_dom_classes": [],
            "_model_module": "@jupyter-widgets/controls",
            "_model_module_version": "1.5.0",
            "_model_name": "HTMLModel",
            "_view_count": null,
            "_view_module": "@jupyter-widgets/controls",
            "_view_module_version": "1.5.0",
            "_view_name": "HTMLView",
            "description": "",
            "description_tooltip": null,
            "layout": "IPY_MODEL_5e2b7261ff844cb7b915b272c387a597",
            "placeholder": "​",
            "style": "IPY_MODEL_9798b4ac3bed4b26ba68da4bed0959f5",
            "value": "100%"
          }
        },
        "4bf214af02964c659439fc5a7329b0c3": {
          "model_module": "@jupyter-widgets/controls",
          "model_name": "FloatProgressModel",
          "model_module_version": "1.5.0",
          "state": {
            "_dom_classes": [],
            "_model_module": "@jupyter-widgets/controls",
            "_model_module_version": "1.5.0",
            "_model_name": "FloatProgressModel",
            "_view_count": null,
            "_view_module": "@jupyter-widgets/controls",
            "_view_module_version": "1.5.0",
            "_view_name": "ProgressView",
            "bar_style": "success",
            "description": "",
            "description_tooltip": null,
            "layout": "IPY_MODEL_1ffa864b4e23422282c6396362344fe7",
            "max": 46830571,
            "min": 0,
            "orientation": "horizontal",
            "style": "IPY_MODEL_fa5852e5610b4550ac0a134c60398a88",
            "value": 46830571
          }
        },
        "1bbecba9d82942cdbf111b5c44cb9310": {
          "model_module": "@jupyter-widgets/controls",
          "model_name": "HTMLModel",
          "model_module_version": "1.5.0",
          "state": {
            "_dom_classes": [],
            "_model_module": "@jupyter-widgets/controls",
            "_model_module_version": "1.5.0",
            "_model_name": "HTMLModel",
            "_view_count": null,
            "_view_module": "@jupyter-widgets/controls",
            "_view_module_version": "1.5.0",
            "_view_name": "HTMLView",
            "description": "",
            "description_tooltip": null,
            "layout": "IPY_MODEL_dc6606d7ac1b479eae2892bcd8192655",
            "placeholder": "​",
            "style": "IPY_MODEL_6242dfed472b43008e36e899ff0ee7ea",
            "value": " 44.7M/44.7M [00:00&lt;00:00, 200MB/s]"
          }
        },
        "31a353ae054248659cd788cfe7d3c433": {
          "model_module": "@jupyter-widgets/base",
          "model_name": "LayoutModel",
          "model_module_version": "1.2.0",
          "state": {
            "_model_module": "@jupyter-widgets/base",
            "_model_module_version": "1.2.0",
            "_model_name": "LayoutModel",
            "_view_count": null,
            "_view_module": "@jupyter-widgets/base",
            "_view_module_version": "1.2.0",
            "_view_name": "LayoutView",
            "align_content": null,
            "align_items": null,
            "align_self": null,
            "border": null,
            "bottom": null,
            "display": null,
            "flex": null,
            "flex_flow": null,
            "grid_area": null,
            "grid_auto_columns": null,
            "grid_auto_flow": null,
            "grid_auto_rows": null,
            "grid_column": null,
            "grid_gap": null,
            "grid_row": null,
            "grid_template_areas": null,
            "grid_template_columns": null,
            "grid_template_rows": null,
            "height": null,
            "justify_content": null,
            "justify_items": null,
            "left": null,
            "margin": null,
            "max_height": null,
            "max_width": null,
            "min_height": null,
            "min_width": null,
            "object_fit": null,
            "object_position": null,
            "order": null,
            "overflow": null,
            "overflow_x": null,
            "overflow_y": null,
            "padding": null,
            "right": null,
            "top": null,
            "visibility": null,
            "width": null
          }
        },
        "5e2b7261ff844cb7b915b272c387a597": {
          "model_module": "@jupyter-widgets/base",
          "model_name": "LayoutModel",
          "model_module_version": "1.2.0",
          "state": {
            "_model_module": "@jupyter-widgets/base",
            "_model_module_version": "1.2.0",
            "_model_name": "LayoutModel",
            "_view_count": null,
            "_view_module": "@jupyter-widgets/base",
            "_view_module_version": "1.2.0",
            "_view_name": "LayoutView",
            "align_content": null,
            "align_items": null,
            "align_self": null,
            "border": null,
            "bottom": null,
            "display": null,
            "flex": null,
            "flex_flow": null,
            "grid_area": null,
            "grid_auto_columns": null,
            "grid_auto_flow": null,
            "grid_auto_rows": null,
            "grid_column": null,
            "grid_gap": null,
            "grid_row": null,
            "grid_template_areas": null,
            "grid_template_columns": null,
            "grid_template_rows": null,
            "height": null,
            "justify_content": null,
            "justify_items": null,
            "left": null,
            "margin": null,
            "max_height": null,
            "max_width": null,
            "min_height": null,
            "min_width": null,
            "object_fit": null,
            "object_position": null,
            "order": null,
            "overflow": null,
            "overflow_x": null,
            "overflow_y": null,
            "padding": null,
            "right": null,
            "top": null,
            "visibility": null,
            "width": null
          }
        },
        "9798b4ac3bed4b26ba68da4bed0959f5": {
          "model_module": "@jupyter-widgets/controls",
          "model_name": "DescriptionStyleModel",
          "model_module_version": "1.5.0",
          "state": {
            "_model_module": "@jupyter-widgets/controls",
            "_model_module_version": "1.5.0",
            "_model_name": "DescriptionStyleModel",
            "_view_count": null,
            "_view_module": "@jupyter-widgets/base",
            "_view_module_version": "1.2.0",
            "_view_name": "StyleView",
            "description_width": ""
          }
        },
        "1ffa864b4e23422282c6396362344fe7": {
          "model_module": "@jupyter-widgets/base",
          "model_name": "LayoutModel",
          "model_module_version": "1.2.0",
          "state": {
            "_model_module": "@jupyter-widgets/base",
            "_model_module_version": "1.2.0",
            "_model_name": "LayoutModel",
            "_view_count": null,
            "_view_module": "@jupyter-widgets/base",
            "_view_module_version": "1.2.0",
            "_view_name": "LayoutView",
            "align_content": null,
            "align_items": null,
            "align_self": null,
            "border": null,
            "bottom": null,
            "display": null,
            "flex": null,
            "flex_flow": null,
            "grid_area": null,
            "grid_auto_columns": null,
            "grid_auto_flow": null,
            "grid_auto_rows": null,
            "grid_column": null,
            "grid_gap": null,
            "grid_row": null,
            "grid_template_areas": null,
            "grid_template_columns": null,
            "grid_template_rows": null,
            "height": null,
            "justify_content": null,
            "justify_items": null,
            "left": null,
            "margin": null,
            "max_height": null,
            "max_width": null,
            "min_height": null,
            "min_width": null,
            "object_fit": null,
            "object_position": null,
            "order": null,
            "overflow": null,
            "overflow_x": null,
            "overflow_y": null,
            "padding": null,
            "right": null,
            "top": null,
            "visibility": null,
            "width": null
          }
        },
        "fa5852e5610b4550ac0a134c60398a88": {
          "model_module": "@jupyter-widgets/controls",
          "model_name": "ProgressStyleModel",
          "model_module_version": "1.5.0",
          "state": {
            "_model_module": "@jupyter-widgets/controls",
            "_model_module_version": "1.5.0",
            "_model_name": "ProgressStyleModel",
            "_view_count": null,
            "_view_module": "@jupyter-widgets/base",
            "_view_module_version": "1.2.0",
            "_view_name": "StyleView",
            "bar_color": null,
            "description_width": ""
          }
        },
        "dc6606d7ac1b479eae2892bcd8192655": {
          "model_module": "@jupyter-widgets/base",
          "model_name": "LayoutModel",
          "model_module_version": "1.2.0",
          "state": {
            "_model_module": "@jupyter-widgets/base",
            "_model_module_version": "1.2.0",
            "_model_name": "LayoutModel",
            "_view_count": null,
            "_view_module": "@jupyter-widgets/base",
            "_view_module_version": "1.2.0",
            "_view_name": "LayoutView",
            "align_content": null,
            "align_items": null,
            "align_self": null,
            "border": null,
            "bottom": null,
            "display": null,
            "flex": null,
            "flex_flow": null,
            "grid_area": null,
            "grid_auto_columns": null,
            "grid_auto_flow": null,
            "grid_auto_rows": null,
            "grid_column": null,
            "grid_gap": null,
            "grid_row": null,
            "grid_template_areas": null,
            "grid_template_columns": null,
            "grid_template_rows": null,
            "height": null,
            "justify_content": null,
            "justify_items": null,
            "left": null,
            "margin": null,
            "max_height": null,
            "max_width": null,
            "min_height": null,
            "min_width": null,
            "object_fit": null,
            "object_position": null,
            "order": null,
            "overflow": null,
            "overflow_x": null,
            "overflow_y": null,
            "padding": null,
            "right": null,
            "top": null,
            "visibility": null,
            "width": null
          }
        },
        "6242dfed472b43008e36e899ff0ee7ea": {
          "model_module": "@jupyter-widgets/controls",
          "model_name": "DescriptionStyleModel",
          "model_module_version": "1.5.0",
          "state": {
            "_model_module": "@jupyter-widgets/controls",
            "_model_module_version": "1.5.0",
            "_model_name": "DescriptionStyleModel",
            "_view_count": null,
            "_view_module": "@jupyter-widgets/base",
            "_view_module_version": "1.2.0",
            "_view_name": "StyleView",
            "description_width": ""
          }
        }
      }
    }
  },
  "nbformat": 4,
  "nbformat_minor": 0
}