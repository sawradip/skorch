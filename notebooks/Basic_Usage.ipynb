{
 "cells": [
  {
   "cell_type": "markdown",
   "metadata": {},
   "source": [
    "# Basic usage"
   ]
  },
  {
   "cell_type": "markdown",
   "metadata": {},
   "source": [
    "*`skorch`* is designed to maximize interoperability between `sklearn` and `pytorch`. The aim is to keep 99% of the flexibility of `pytorch` while being able to leverage most features of `sklearn`. Below, we show the basic usage of `skorch` and how it can be combined with `sklearn`.\n",
    "\n",
    "<table align=\"left\"><td>\n",
    "<a target=\"_blank\" href=\"https://colab.research.google.com/github/skorch-dev/skorch/blob/master/notebooks/Basic_Usage.ipynb\">\n",
    "    <img src=\"https://www.tensorflow.org/images/colab_logo_32px.png\" />Run in Google Colab</a>  \n",
    "</td><td>\n",
    "<a target=\"_blank\" href=\"https://github.com/skorch-dev/skorch/blob/master/notebooks/Basic_Usage.ipynb\"><img width=32px src=\"https://www.tensorflow.org/images/GitHub-Mark-32px.png\" />View source on GitHub</a></td></table>"
   ]
  },
  {
   "cell_type": "markdown",
   "metadata": {},
   "source": [
    "This notebook shows you how to use the basic functionality of `skorch`."
   ]
  },
  {
   "cell_type": "markdown",
   "metadata": {},
   "source": [
    "### Table of contents"
   ]
  },
  {
   "cell_type": "markdown",
   "metadata": {},
   "source": [
    "* [Definition of the pytorch module](#Definition-of-the-pytorch-module)\n",
    "* [Training a classifier](#Training-a-classifier-and-making-predictions)\n",
    "  * [Dataset](#A-toy-binary-classification-task)\n",
    "  * [pytorch module](#Definition-of-the-pytorch-classification-module)\n",
    "  * [Model training](#Defining-and-training-the-neural-net-classifier)\n",
    "  * [Inference](#Making-predictions,-classification)\n",
    "* [Training a regressor](#Training-a-regressor)\n",
    "  * [Dataset](#A-toy-regression-task)\n",
    "  * [pytorch module](#Definition-of-the-pytorch-regression-module)\n",
    "  * [Model training](#Defining-and-training-the-neural-net-regressor)\n",
    "  * [Inference](#Making-predictions,-regression)\n",
    "* [Saving and loading a model](#Saving-and-loading-a-model)\n",
    "  * [Whole model](#Saving-the-whole-model)\n",
    "  * [Only parameters](#Saving-only-the-model-parameters)\n",
    "* [Usage with an sklearn Pipeline](#Usage-with-an-sklearn-Pipeline)\n",
    "* [Callbacks](#Callbacks)\n",
    "* [Grid search](#Usage-with-sklearn-GridSearchCV)\n",
    "  * [Special prefixes](#Special-prefixes)\n",
    "  * [Performing a grid search](#Performing-a-grid-search)"
   ]
  },
  {
   "cell_type": "code",
   "execution_count": 2,
   "metadata": {},
   "outputs": [
    {
     "name": "stdout",
     "output_type": "stream",
     "text": [
      "If not already installed, you can install skorch by running 'pip install skorch'\n"
     ]
    }
   ],
   "source": [
    "import subprocess\n",
    "\n",
    "# Installation\n",
    "try:\n",
    "    import google.colab\n",
    "    subprocess.run(['python', '-m', 'pip', 'install', 'skorch' , 'torch'])\n",
    "except ImportError:\n",
    "    print(\"If not already installed, you can install skorch by running 'pip install skorch'\")"
   ]
  },
  {
   "cell_type": "code",
   "execution_count": 3,
   "metadata": {},
   "outputs": [],
   "source": [
    "import torch\n",
    "from torch import nn\n",
    "import torch.nn.functional as F"
   ]
  },
  {
   "cell_type": "code",
   "execution_count": 4,
   "metadata": {},
   "outputs": [],
   "source": [
    "torch.manual_seed(0)\n",
    "torch.cuda.manual_seed(0)"
   ]
  },
  {
   "cell_type": "markdown",
   "metadata": {},
   "source": [
    "## Training a classifier and making predictions"
   ]
  },
  {
   "cell_type": "markdown",
   "metadata": {},
   "source": [
    "### A toy binary classification task"
   ]
  },
  {
   "cell_type": "markdown",
   "metadata": {},
   "source": [
    "We load a toy classification task from `sklearn`."
   ]
  },
  {
   "cell_type": "code",
   "execution_count": 5,
   "metadata": {},
   "outputs": [],
   "source": [
    "import numpy as np\n",
    "from sklearn.datasets import make_classification"
   ]
  },
  {
   "cell_type": "code",
   "execution_count": 8,
   "metadata": {},
   "outputs": [],
   "source": [
    "# This is a toy dataset for binary classification, 1000 data points with 20 features each\n",
    "X, y = make_classification(1000, 20, n_informative=10, random_state=0)\n",
    "X, y = X.astype(np.float32), y.astype(np.int64)"
   ]
  },
  {
   "cell_type": "code",
   "execution_count": 5,
   "metadata": {
    "scrolled": true
   },
   "outputs": [
    {
     "data": {
      "text/plain": [
       "((1000, 20), (1000,), 0.5)"
      ]
     },
     "execution_count": 5,
     "metadata": {},
     "output_type": "execute_result"
    }
   ],
   "source": [
    "X.shape, y.shape, y.mean()"
   ]
  },
  {
   "cell_type": "markdown",
   "metadata": {},
   "source": [
    "### Definition of the `pytorch` classification `module`"
   ]
  },
  {
   "cell_type": "markdown",
   "metadata": {},
   "source": [
    "We define a vanilla neural network with two hidden layers. The output layer should have 2 output units since there are two classes. In addition, it should have a softmax nonlinearity, because later, when calling `predict_proba`, the output from the `forward` call will be used."
   ]
  },
  {
   "cell_type": "code",
   "execution_count": 9,
   "metadata": {},
   "outputs": [],
   "source": [
    "class ClassifierModule(nn.Module):\n",
    "    def __init__(\n",
    "            self,\n",
    "            num_units=10,\n",
    "            nonlin=F.relu,\n",
    "            dropout=0.5,\n",
    "    ):\n",
    "        super(ClassifierModule, self).__init__()\n",
    "        self.num_units = num_units\n",
    "        self.nonlin = nonlin\n",
    "        self.dropout = dropout\n",
    "\n",
    "        self.dense0 = nn.Linear(20, num_units)\n",
    "        self.nonlin = nonlin\n",
    "        self.dropout = nn.Dropout(dropout)\n",
    "        self.dense1 = nn.Linear(num_units, 10)\n",
    "        self.output = nn.Linear(10, 2)\n",
    "\n",
    "    def forward(self, X, **kwargs):\n",
    "        X = self.nonlin(self.dense0(X))\n",
    "        X = self.dropout(X)\n",
    "        X = F.relu(self.dense1(X))\n",
    "        X = F.softmax(self.output(X), dim=-1)\n",
    "        return X"
   ]
  },
  {
   "cell_type": "markdown",
   "metadata": {},
   "source": [
    "### Defining and training the neural net classifier"
   ]
  },
  {
   "cell_type": "markdown",
   "metadata": {},
   "source": [
    "We use `NeuralNetClassifier` because we're dealing with a classifcation task. The first argument should be the `pytorch module`. As additional arguments, we pass the number of epochs and the learning rate (`lr`), but those are optional.\n",
    "\n",
    "*Note*: To use the CUDA backend, pass `device='cuda'` as an additional argument."
   ]
  },
  {
   "cell_type": "code",
   "execution_count": 11,
   "metadata": {},
   "outputs": [],
   "source": [
    "from skorch import NeuralNetClassifier"
   ]
  },
  {
   "cell_type": "code",
   "execution_count": 12,
   "metadata": {},
   "outputs": [],
   "source": [
    "net = NeuralNetClassifier(\n",
    "    ClassifierModule,\n",
    "    max_epochs=20,\n",
    "    lr=0.1,\n",
    "#     device='cuda',  # uncomment this to train with CUDA\n",
    ")"
   ]
  },
  {
   "cell_type": "markdown",
   "metadata": {},
   "source": [
    "As in `sklearn`, we call `fit` passing the input data `X` and the targets `y`. By default, `NeuralNetClassifier` makes a `StratifiedKFold` split on the data (80/20) to track the validation loss. This is shown, as well as the train loss and the accuracy on the validation set."
   ]
  },
  {
   "cell_type": "code",
   "execution_count": 15,
   "metadata": {
    "scrolled": false
   },
   "outputs": [
    {
     "name": "stdout",
     "output_type": "stream",
     "text": [
      "Re-initializing module.\n",
      "Re-initializing criterion.\n",
      "Re-initializing optimizer.\n",
      "  epoch    train_loss    valid_acc    valid_loss     dur\n",
      "-------  ------------  -----------  ------------  ------\n",
      "      1        \u001b[36m0.6812\u001b[0m       \u001b[32m0.5650\u001b[0m        \u001b[35m0.6789\u001b[0m  0.1057\n",
      "      2        \u001b[36m0.6710\u001b[0m       \u001b[32m0.5950\u001b[0m        \u001b[35m0.6712\u001b[0m  0.0489\n",
      "      3        \u001b[36m0.6697\u001b[0m       \u001b[32m0.6150\u001b[0m        \u001b[35m0.6640\u001b[0m  0.0389\n",
      "      4        \u001b[36m0.6639\u001b[0m       \u001b[32m0.6350\u001b[0m        \u001b[35m0.6569\u001b[0m  0.0319\n",
      "      5        \u001b[36m0.6525\u001b[0m       \u001b[32m0.6700\u001b[0m        \u001b[35m0.6508\u001b[0m  0.0409\n",
      "      6        \u001b[36m0.6489\u001b[0m       0.6650        \u001b[35m0.6445\u001b[0m  0.0299\n",
      "      7        \u001b[36m0.6439\u001b[0m       \u001b[32m0.6800\u001b[0m        \u001b[35m0.6373\u001b[0m  0.0259\n",
      "      8        \u001b[36m0.6227\u001b[0m       \u001b[32m0.6850\u001b[0m        \u001b[35m0.6311\u001b[0m  0.0439\n",
      "      9        \u001b[36m0.6138\u001b[0m       \u001b[32m0.6900\u001b[0m        \u001b[35m0.6222\u001b[0m  0.0319\n",
      "     10        \u001b[36m0.6045\u001b[0m       0.6900        \u001b[35m0.6123\u001b[0m  0.0269\n",
      "     11        0.6094       \u001b[32m0.7050\u001b[0m        \u001b[35m0.6030\u001b[0m  0.0349\n",
      "     12        \u001b[36m0.5904\u001b[0m       \u001b[32m0.7150\u001b[0m        \u001b[35m0.5944\u001b[0m  0.0369\n",
      "     13        \u001b[36m0.5694\u001b[0m       \u001b[32m0.7350\u001b[0m        \u001b[35m0.5780\u001b[0m  0.0269\n",
      "     14        \u001b[36m0.5628\u001b[0m       0.7350        \u001b[35m0.5723\u001b[0m  0.0279\n",
      "     15        \u001b[36m0.5499\u001b[0m       \u001b[32m0.7450\u001b[0m        \u001b[35m0.5621\u001b[0m  0.0339\n",
      "     16        \u001b[36m0.5420\u001b[0m       0.7350        \u001b[35m0.5535\u001b[0m  0.0329\n",
      "     17        \u001b[36m0.5339\u001b[0m       0.7300        \u001b[35m0.5451\u001b[0m  0.0319\n",
      "     18        \u001b[36m0.5288\u001b[0m       0.7350        \u001b[35m0.5437\u001b[0m  0.0359\n",
      "     19        0.5470       0.7400        \u001b[35m0.5403\u001b[0m  0.0299\n",
      "     20        \u001b[36m0.5259\u001b[0m       0.7450        \u001b[35m0.5309\u001b[0m  0.0299\n"
     ]
    },
    {
     "data": {
      "text/plain": [
       "<class 'skorch.classifier.NeuralNetClassifier'>[initialized](\n",
       "  module_=ClassifierModule(\n",
       "    (dense0): Linear(in_features=20, out_features=10, bias=True)\n",
       "    (dropout): Dropout(p=0.5, inplace=False)\n",
       "    (dense1): Linear(in_features=10, out_features=10, bias=True)\n",
       "    (output): Linear(in_features=10, out_features=2, bias=True)\n",
       "  ),\n",
       ")"
      ]
     },
     "execution_count": 15,
     "metadata": {},
     "output_type": "execute_result"
    }
   ],
   "source": [
    "# Training the network\n",
    "net.fit(X, y)"
   ]
  },
  {
   "cell_type": "markdown",
   "metadata": {},
   "source": [
    "Also, as in `sklearn`, you may call `predict` or `predict_proba` on the fitted model."
   ]
  },
  {
   "cell_type": "markdown",
   "metadata": {},
   "source": [
    "### Making predictions, classification"
   ]
  },
  {
   "cell_type": "code",
   "execution_count": 11,
   "metadata": {},
   "outputs": [
    {
     "data": {
      "text/plain": [
       "array([0, 0, 0, 0, 0])"
      ]
     },
     "execution_count": 11,
     "metadata": {},
     "output_type": "execute_result"
    }
   ],
   "source": [
    "# Making prediction for first 5 data points of X\n",
    "y_pred = net.predict(X[:5])\n",
    "y_pred"
   ]
  },
  {
   "cell_type": "code",
   "execution_count": 14,
   "metadata": {},
   "outputs": [
    {
     "data": {
      "text/plain": [
       "array([[0.5603605 , 0.4396395 ],\n",
       "       [0.782588  , 0.21741197],\n",
       "       [0.6924924 , 0.30750763],\n",
       "       [0.8895971 , 0.1104029 ],\n",
       "       [0.7074626 , 0.29253733]], dtype=float32)"
      ]
     },
     "execution_count": 14,
     "metadata": {},
     "output_type": "execute_result"
    }
   ],
   "source": [
    "# Checking probarbility of each class for first 5 data points of X\n",
    "y_proba = net.predict_proba(X[:5])\n",
    "y_proba"
   ]
  },
  {
   "cell_type": "markdown",
   "metadata": {},
   "source": [
    "## Training a regressor"
   ]
  },
  {
   "cell_type": "markdown",
   "metadata": {},
   "source": [
    "### A toy regression task"
   ]
  },
  {
   "cell_type": "code",
   "execution_count": 17,
   "metadata": {},
   "outputs": [],
   "source": [
    "from sklearn.datasets import make_regression"
   ]
  },
  {
   "cell_type": "code",
   "execution_count": 28,
   "metadata": {},
   "outputs": [],
   "source": [
    "# This is a toy dataset for regression, 1000 data points with 20 features each\n",
    "X_regr, y_regr = make_regression(1000, 20, n_informative=10, random_state=0)\n",
    "X_regr = X_regr.astype(np.float32)\n",
    "y_regr = y_regr.astype(np.float32) / 100\n",
    "y_regr = y_regr.reshape(-1, 1)"
   ]
  },
  {
   "cell_type": "code",
   "execution_count": 29,
   "metadata": {
    "scrolled": true
   },
   "outputs": [
    {
     "data": {
      "text/plain": [
       "((1000, 20), (1000, 1), -6.4901485, 6.154505)"
      ]
     },
     "execution_count": 29,
     "metadata": {},
     "output_type": "execute_result"
    }
   ],
   "source": [
    "X_regr.shape, y_regr.shape, y_regr.min(), y_regr.max()"
   ]
  },
  {
   "attachments": {},
   "cell_type": "markdown",
   "metadata": {},
   "source": [
    "*Note*: Regression requires the target to be 2-dimensional, hence the need to reshape. "
   ]
  },
  {
   "cell_type": "markdown",
   "metadata": {},
   "source": [
    "### Definition of the `pytorch` regression `module`"
   ]
  },
  {
   "cell_type": "markdown",
   "metadata": {},
   "source": [
    "Again, define a vanilla neural network with two hidden layers. The main difference is that the output layer only has one unit and does not apply a softmax nonlinearity."
   ]
  },
  {
   "cell_type": "code",
   "execution_count": 30,
   "metadata": {},
   "outputs": [],
   "source": [
    "class RegressorModule(nn.Module):\n",
    "    def __init__(\n",
    "            self,\n",
    "            num_units=10,\n",
    "            nonlin=F.relu,\n",
    "    ):\n",
    "        super(RegressorModule, self).__init__()\n",
    "        self.num_units = num_units\n",
    "        self.nonlin = nonlin\n",
    "\n",
    "        self.dense0 = nn.Linear(20, num_units)\n",
    "        self.nonlin = nonlin\n",
    "        self.dense1 = nn.Linear(num_units, 10)\n",
    "        self.output = nn.Linear(10, 1)\n",
    "\n",
    "    def forward(self, X, **kwargs):\n",
    "        X = self.nonlin(self.dense0(X))\n",
    "        X = F.relu(self.dense1(X))\n",
    "        X = self.output(X)\n",
    "        return X"
   ]
  },
  {
   "cell_type": "markdown",
   "metadata": {},
   "source": [
    "### Defining and training the neural net regressor"
   ]
  },
  {
   "cell_type": "markdown",
   "metadata": {},
   "source": [
    "Training a regressor is almost the same as training a classifier. Mainly, we use `NeuralNetRegressor` instead of `NeuralNetClassifier` (this is the same terminology as in `sklearn`)."
   ]
  },
  {
   "cell_type": "code",
   "execution_count": 31,
   "metadata": {},
   "outputs": [],
   "source": [
    "from skorch import NeuralNetRegressor"
   ]
  },
  {
   "cell_type": "code",
   "execution_count": 32,
   "metadata": {},
   "outputs": [],
   "source": [
    "net_regr = NeuralNetRegressor(\n",
    "    RegressorModule,\n",
    "    max_epochs=20,\n",
    "    lr=0.1,\n",
    "#     device='cuda',  # uncomment this to train with CUDA\n",
    ")"
   ]
  },
  {
   "cell_type": "code",
   "execution_count": 33,
   "metadata": {},
   "outputs": [
    {
     "name": "stdout",
     "output_type": "stream",
     "text": [
      "  epoch    train_loss    valid_loss     dur\n",
      "-------  ------------  ------------  ------\n",
      "      1        \u001b[36m4.6036\u001b[0m        \u001b[32m3.8282\u001b[0m  0.0479\n",
      "      2        \u001b[36m3.6613\u001b[0m        \u001b[32m1.9079\u001b[0m  0.0449\n",
      "      3        \u001b[36m0.9959\u001b[0m        \u001b[32m0.3900\u001b[0m  0.0509\n",
      "      4        \u001b[36m0.2973\u001b[0m        0.5710  0.0349\n",
      "      5        0.6202        \u001b[32m0.1553\u001b[0m  0.0309\n",
      "      6        \u001b[36m0.1395\u001b[0m        0.2583  0.0339\n",
      "      7        0.1801        \u001b[32m0.1075\u001b[0m  0.0289\n",
      "      8        \u001b[36m0.0995\u001b[0m        0.1855  0.0439\n",
      "      9        0.1232        \u001b[32m0.0853\u001b[0m  0.0279\n",
      "     10        \u001b[36m0.0750\u001b[0m        0.1329  0.0339\n",
      "     11        0.0854        \u001b[32m0.0672\u001b[0m  0.0419\n",
      "     12        \u001b[36m0.0571\u001b[0m        0.0950  0.0529\n",
      "     13        0.0590        \u001b[32m0.0543\u001b[0m  0.0339\n",
      "     14        \u001b[36m0.0420\u001b[0m        0.0665  0.0419\n",
      "     15        \u001b[36m0.0401\u001b[0m        \u001b[32m0.0438\u001b[0m  0.0329\n",
      "     16        \u001b[36m0.0308\u001b[0m        0.0472  0.0389\n",
      "     17        \u001b[36m0.0274\u001b[0m        \u001b[32m0.0353\u001b[0m  0.0329\n",
      "     18        \u001b[36m0.0227\u001b[0m        0.0353  0.0389\n",
      "     19        \u001b[36m0.0197\u001b[0m        \u001b[32m0.0275\u001b[0m  0.0319\n",
      "     20        \u001b[36m0.0174\u001b[0m        0.0278  0.0439\n"
     ]
    },
    {
     "data": {
      "text/plain": [
       "<class 'skorch.regressor.NeuralNetRegressor'>[initialized](\n",
       "  module_=RegressorModule(\n",
       "    (dense0): Linear(in_features=20, out_features=10, bias=True)\n",
       "    (dense1): Linear(in_features=10, out_features=10, bias=True)\n",
       "    (output): Linear(in_features=10, out_features=1, bias=True)\n",
       "  ),\n",
       ")"
      ]
     },
     "execution_count": 33,
     "metadata": {},
     "output_type": "execute_result"
    }
   ],
   "source": [
    "net_regr.fit(X_regr, y_regr)"
   ]
  },
  {
   "cell_type": "markdown",
   "metadata": {},
   "source": [
    "### Making predictions, regression"
   ]
  },
  {
   "cell_type": "markdown",
   "metadata": {},
   "source": [
    "You may call `predict` or `predict_proba` on the fitted model. For regressions, both methods return the same value."
   ]
  },
  {
   "cell_type": "code",
   "execution_count": 34,
   "metadata": {},
   "outputs": [
    {
     "data": {
      "text/plain": [
       "array([[ 0.6939189 ],\n",
       "       [-1.5171506 ],\n",
       "       [-0.501828  ],\n",
       "       [-0.41470915],\n",
       "       [-0.5944874 ]], dtype=float32)"
      ]
     },
     "execution_count": 34,
     "metadata": {},
     "output_type": "execute_result"
    }
   ],
   "source": [
    "# Making prediction for first 5 data points of X\n",
    "y_pred = net_regr.predict(X_regr[:5])\n",
    "y_pred"
   ]
  },
  {
   "cell_type": "markdown",
   "metadata": {},
   "source": [
    "## Saving and loading a model"
   ]
  },
  {
   "cell_type": "markdown",
   "metadata": {},
   "source": [
    "Save and load either the whole model by using pickle or just the learned model parameters by calling `save_params` and `load_params`."
   ]
  },
  {
   "cell_type": "markdown",
   "metadata": {},
   "source": [
    "### Saving the whole model"
   ]
  },
  {
   "cell_type": "code",
   "execution_count": 35,
   "metadata": {},
   "outputs": [],
   "source": [
    "import os\n",
    "import pickle"
   ]
  },
  {
   "cell_type": "code",
   "execution_count": 36,
   "metadata": {},
   "outputs": [],
   "source": [
    "file_name = '/tmp/mymodel.pkl'"
   ]
  },
  {
   "cell_type": "code",
   "execution_count": null,
   "metadata": {},
   "outputs": [],
   "source": [
    "with open(file_name, 'wb') as f:\n",
    "    pickle.dump(net, f)"
   ]
  },
  {
   "cell_type": "code",
   "execution_count": 24,
   "metadata": {},
   "outputs": [],
   "source": [
    "with open(file_name, 'rb') as f:\n",
    "    new_net = pickle.load(f)"
   ]
  },
  {
   "cell_type": "markdown",
   "metadata": {},
   "source": [
    "### Saving only the model parameters"
   ]
  },
  {
   "cell_type": "markdown",
   "metadata": {},
   "source": [
    "This only saves and loads the proper `module` parameters, meaning that hyperparameters such as `lr` and `max_epochs` are not saved. Therefore, to load the model, we have to re-initialize it beforehand."
   ]
  },
  {
   "cell_type": "code",
   "execution_count": 25,
   "metadata": {},
   "outputs": [],
   "source": [
    "net.save_params(f_params=file_name)  # a file handler also works"
   ]
  },
  {
   "cell_type": "code",
   "execution_count": 26,
   "metadata": {},
   "outputs": [],
   "source": [
    "# first initialize the model\n",
    "new_net = NeuralNetClassifier(\n",
    "    ClassifierModule,\n",
    "    max_epochs=20,\n",
    "    lr=0.1,\n",
    ").initialize()"
   ]
  },
  {
   "cell_type": "code",
   "execution_count": 27,
   "metadata": {},
   "outputs": [],
   "source": [
    "new_net.load_params(file_name)"
   ]
  },
  {
   "cell_type": "markdown",
   "metadata": {},
   "source": [
    "## Usage with an `sklearn Pipeline`"
   ]
  },
  {
   "cell_type": "markdown",
   "metadata": {},
   "source": [
    "It is possible to put the `NeuralNetClassifier` inside an `sklearn Pipeline`, as you would with any `sklearn` classifier."
   ]
  },
  {
   "cell_type": "code",
   "execution_count": 38,
   "metadata": {},
   "outputs": [],
   "source": [
    "from sklearn.pipeline import Pipeline\n",
    "from sklearn.preprocessing import StandardScaler"
   ]
  },
  {
   "cell_type": "code",
   "execution_count": 39,
   "metadata": {},
   "outputs": [],
   "source": [
    "pipe = Pipeline([\n",
    "    ('scale', StandardScaler()),\n",
    "    ('net', net),\n",
    "])"
   ]
  },
  {
   "cell_type": "code",
   "execution_count": 40,
   "metadata": {},
   "outputs": [
    {
     "name": "stdout",
     "output_type": "stream",
     "text": [
      "Re-initializing module.\n",
      "Re-initializing criterion.\n",
      "Re-initializing optimizer.\n",
      "  epoch    train_loss    valid_acc    valid_loss     dur\n",
      "-------  ------------  -----------  ------------  ------\n",
      "      1        \u001b[36m0.6940\u001b[0m       \u001b[32m0.4600\u001b[0m        \u001b[35m0.6945\u001b[0m  0.0339\n",
      "      2        0.6946       \u001b[32m0.4700\u001b[0m        \u001b[35m0.6931\u001b[0m  0.0339\n",
      "      3        \u001b[36m0.6913\u001b[0m       \u001b[32m0.5100\u001b[0m        \u001b[35m0.6919\u001b[0m  0.0349\n",
      "      4        \u001b[36m0.6911\u001b[0m       \u001b[32m0.5200\u001b[0m        \u001b[35m0.6903\u001b[0m  0.0469\n",
      "      5        \u001b[36m0.6815\u001b[0m       \u001b[32m0.5300\u001b[0m        \u001b[35m0.6885\u001b[0m  0.0409\n",
      "      6        0.6842       \u001b[32m0.5400\u001b[0m        \u001b[35m0.6867\u001b[0m  0.0389\n",
      "      7        0.6848       \u001b[32m0.5650\u001b[0m        \u001b[35m0.6847\u001b[0m  0.0299\n",
      "      8        \u001b[36m0.6803\u001b[0m       \u001b[32m0.5850\u001b[0m        \u001b[35m0.6822\u001b[0m  0.0379\n",
      "      9        \u001b[36m0.6729\u001b[0m       \u001b[32m0.5900\u001b[0m        \u001b[35m0.6788\u001b[0m  0.0479\n",
      "     10        \u001b[36m0.6693\u001b[0m       \u001b[32m0.6150\u001b[0m        \u001b[35m0.6742\u001b[0m  0.0299\n",
      "     11        \u001b[36m0.6641\u001b[0m       0.5900        \u001b[35m0.6689\u001b[0m  0.0319\n",
      "     12        0.6653       \u001b[32m0.6200\u001b[0m        \u001b[35m0.6635\u001b[0m  0.0269\n",
      "     13        \u001b[36m0.6532\u001b[0m       \u001b[32m0.6400\u001b[0m        \u001b[35m0.6569\u001b[0m  0.0359\n",
      "     14        \u001b[36m0.6482\u001b[0m       \u001b[32m0.6550\u001b[0m        \u001b[35m0.6498\u001b[0m  0.0349\n",
      "     15        \u001b[36m0.6300\u001b[0m       \u001b[32m0.6800\u001b[0m        \u001b[35m0.6409\u001b[0m  0.0349\n",
      "     16        \u001b[36m0.6291\u001b[0m       \u001b[32m0.6850\u001b[0m        \u001b[35m0.6320\u001b[0m  0.0369\n",
      "     17        \u001b[36m0.6202\u001b[0m       \u001b[32m0.7100\u001b[0m        \u001b[35m0.6229\u001b[0m  0.0429\n",
      "     18        \u001b[36m0.6176\u001b[0m       0.6900        \u001b[35m0.6150\u001b[0m  0.0269\n",
      "     19        \u001b[36m0.6119\u001b[0m       0.6850        \u001b[35m0.6059\u001b[0m  0.0249\n",
      "     20        \u001b[36m0.6097\u001b[0m       0.6950        \u001b[35m0.5988\u001b[0m  0.0269\n"
     ]
    },
    {
     "data": {
      "text/plain": [
       "Pipeline(steps=[('scale', StandardScaler()),\n",
       "                ('net',\n",
       "                 <class 'skorch.classifier.NeuralNetClassifier'>[initialized](\n",
       "  module_=ClassifierModule(\n",
       "    (dense0): Linear(in_features=20, out_features=10, bias=True)\n",
       "    (dropout): Dropout(p=0.5, inplace=False)\n",
       "    (dense1): Linear(in_features=10, out_features=10, bias=True)\n",
       "    (output): Linear(in_features=10, out_features=2, bias=True)\n",
       "  ),\n",
       "))])"
      ]
     },
     "execution_count": 40,
     "metadata": {},
     "output_type": "execute_result"
    }
   ],
   "source": [
    "pipe.fit(X, y)"
   ]
  },
  {
   "cell_type": "code",
   "execution_count": 41,
   "metadata": {},
   "outputs": [
    {
     "data": {
      "text/plain": [
       "array([[0.41006783, 0.5899322 ],\n",
       "       [0.76229   , 0.23771006],\n",
       "       [0.5576066 , 0.44239342],\n",
       "       [0.73632103, 0.263679  ],\n",
       "       [0.6556664 , 0.34433353]], dtype=float32)"
      ]
     },
     "execution_count": 41,
     "metadata": {},
     "output_type": "execute_result"
    }
   ],
   "source": [
    "y_proba = pipe.predict_proba(X[:5])\n",
    "y_proba"
   ]
  },
  {
   "cell_type": "markdown",
   "metadata": {},
   "source": [
    "To save the whole pipeline, including the pytorch module, use `pickle`."
   ]
  },
  {
   "cell_type": "markdown",
   "metadata": {},
   "source": [
    "## Callbacks"
   ]
  },
  {
   "cell_type": "markdown",
   "metadata": {},
   "source": [
    "Adding a new callback to the model is straightforward. Below we show how to add a new callback that determines the area under the ROC (AUC) score."
   ]
  },
  {
   "cell_type": "code",
   "execution_count": 42,
   "metadata": {},
   "outputs": [],
   "source": [
    "from skorch.callbacks import EpochScoring"
   ]
  },
  {
   "cell_type": "markdown",
   "metadata": {},
   "source": [
    "There is a scoring callback in skorch, `EpochScoring`, which we use for this. We have to specify which score to calculate. We have 3 choices:\n",
    "\n",
    "* Passing a string: This should be a valid `sklearn` metric. For a list of all existing scores, look [here](http://scikit-learn.org/stable/modules/classes.html#sklearn-metrics-metrics).\n",
    "* Passing `None`: If you implement your own `.score` method on your neural net, passing `scoring=None` will tell `skorch` to use that.\n",
    "* Passing a function or callable: If we want to define our own scoring function, we pass a function with the signature `func(model, X, y) -> score`, which is then used.\n",
    "\n",
    "Note that this works exactly the same as scoring in `sklearn` does."
   ]
  },
  {
   "cell_type": "markdown",
   "metadata": {},
   "source": [
    "For our case here, since `sklearn` already implements AUC, we just pass the correct string `'roc_auc'`. We should also tell the callback that higher scores are better (to get the correct colors printed below -- by default, lower scores are assumed to be better). Furthermore, we may specify a `name` argument for `EpochScoring`, and whether to use training data (by setting `on_train=True`) or validation data (which is the default)."
   ]
  },
  {
   "cell_type": "code",
   "execution_count": 43,
   "metadata": {},
   "outputs": [],
   "source": [
    "auc = EpochScoring(scoring='roc_auc', lower_is_better=False)"
   ]
  },
  {
   "cell_type": "markdown",
   "metadata": {},
   "source": [
    "Finally, we pass the scoring callback to the `callbacks` parameter as a list and then call `fit`. Notice that we get the printed scores and color highlighting for free."
   ]
  },
  {
   "cell_type": "code",
   "execution_count": 44,
   "metadata": {},
   "outputs": [],
   "source": [
    "net = NeuralNetClassifier(\n",
    "    ClassifierModule,\n",
    "    max_epochs=20,\n",
    "    lr=0.1,\n",
    "    callbacks=[auc],\n",
    ")"
   ]
  },
  {
   "cell_type": "code",
   "execution_count": 45,
   "metadata": {},
   "outputs": [
    {
     "name": "stdout",
     "output_type": "stream",
     "text": [
      "  epoch    roc_auc    train_loss    valid_acc    valid_loss     dur\n",
      "-------  ---------  ------------  -----------  ------------  ------\n",
      "      1     \u001b[36m0.5787\u001b[0m        \u001b[32m0.7094\u001b[0m       \u001b[35m0.5050\u001b[0m        \u001b[31m0.6915\u001b[0m  0.1037\n",
      "      2     \u001b[36m0.6215\u001b[0m        \u001b[32m0.6924\u001b[0m       \u001b[35m0.5250\u001b[0m        \u001b[31m0.6802\u001b[0m  0.0439\n",
      "      3     \u001b[36m0.6558\u001b[0m        \u001b[32m0.6852\u001b[0m       \u001b[35m0.6200\u001b[0m        \u001b[31m0.6725\u001b[0m  0.0558\n",
      "      4     \u001b[36m0.6687\u001b[0m        \u001b[32m0.6664\u001b[0m       \u001b[35m0.6400\u001b[0m        \u001b[31m0.6640\u001b[0m  0.0339\n",
      "      5     \u001b[36m0.6797\u001b[0m        \u001b[32m0.6491\u001b[0m       \u001b[35m0.6700\u001b[0m        \u001b[31m0.6550\u001b[0m  0.0259\n",
      "      6     \u001b[36m0.6903\u001b[0m        \u001b[32m0.6474\u001b[0m       0.6700        \u001b[31m0.6458\u001b[0m  0.0309\n",
      "      7     \u001b[36m0.7005\u001b[0m        \u001b[32m0.6308\u001b[0m       \u001b[35m0.6800\u001b[0m        \u001b[31m0.6352\u001b[0m  0.0299\n",
      "      8     \u001b[36m0.7086\u001b[0m        \u001b[32m0.6178\u001b[0m       0.6800        \u001b[31m0.6240\u001b[0m  0.0359\n",
      "      9     \u001b[36m0.7144\u001b[0m        \u001b[32m0.6041\u001b[0m       \u001b[35m0.6850\u001b[0m        \u001b[31m0.6143\u001b[0m  0.0259\n",
      "     10     \u001b[36m0.7247\u001b[0m        \u001b[32m0.5997\u001b[0m       \u001b[35m0.7150\u001b[0m        \u001b[31m0.6077\u001b[0m  0.0309\n",
      "     11     \u001b[36m0.7383\u001b[0m        \u001b[32m0.5784\u001b[0m       0.7150        \u001b[31m0.5967\u001b[0m  0.0359\n",
      "     12     \u001b[36m0.7504\u001b[0m        \u001b[32m0.5771\u001b[0m       \u001b[35m0.7200\u001b[0m        \u001b[31m0.5825\u001b[0m  0.0309\n",
      "     13     \u001b[36m0.7520\u001b[0m        \u001b[32m0.5759\u001b[0m       \u001b[35m0.7350\u001b[0m        \u001b[31m0.5755\u001b[0m  0.0339\n",
      "     14     \u001b[36m0.7577\u001b[0m        \u001b[32m0.5662\u001b[0m       0.7300        \u001b[31m0.5675\u001b[0m  0.0289\n",
      "     15     \u001b[36m0.7634\u001b[0m        \u001b[32m0.5470\u001b[0m       0.7350        \u001b[31m0.5650\u001b[0m  0.0309\n",
      "     16     \u001b[36m0.7702\u001b[0m        0.5607       \u001b[35m0.7450\u001b[0m        \u001b[31m0.5567\u001b[0m  0.0369\n",
      "     17     \u001b[36m0.7745\u001b[0m        \u001b[32m0.5350\u001b[0m       0.7450        \u001b[31m0.5477\u001b[0m  0.0319\n",
      "     18     \u001b[36m0.7830\u001b[0m        0.5414       0.7450        \u001b[31m0.5408\u001b[0m  0.0369\n",
      "     19     \u001b[36m0.7847\u001b[0m        \u001b[32m0.5277\u001b[0m       0.7400        \u001b[31m0.5364\u001b[0m  0.0389\n",
      "     20     0.7845        0.5554       0.7350        0.5389  0.0389\n"
     ]
    },
    {
     "data": {
      "text/plain": [
       "<class 'skorch.classifier.NeuralNetClassifier'>[initialized](\n",
       "  module_=ClassifierModule(\n",
       "    (dense0): Linear(in_features=20, out_features=10, bias=True)\n",
       "    (dropout): Dropout(p=0.5, inplace=False)\n",
       "    (dense1): Linear(in_features=10, out_features=10, bias=True)\n",
       "    (output): Linear(in_features=10, out_features=2, bias=True)\n",
       "  ),\n",
       ")"
      ]
     },
     "execution_count": 45,
     "metadata": {},
     "output_type": "execute_result"
    }
   ],
   "source": [
    "net.fit(X, y)"
   ]
  },
  {
   "cell_type": "markdown",
   "metadata": {},
   "source": [
    "For information on how to write custom callbacks, have a look at the [Advanced_Usage](https://nbviewer.jupyter.org/github/skorch-dev/skorch/blob/master/notebooks/Advanced_Usage.ipynb) notebook."
   ]
  },
  {
   "cell_type": "markdown",
   "metadata": {},
   "source": [
    "## Usage with sklearn `GridSearchCV`"
   ]
  },
  {
   "cell_type": "markdown",
   "metadata": {},
   "source": [
    "### Special prefixes"
   ]
  },
  {
   "cell_type": "markdown",
   "metadata": {},
   "source": [
    "The `NeuralNet` class allows to directly access parameters of the `pytorch module` by using the `module__` prefix. So e.g. if you defined the `module` to have a `num_units` parameter, you can set it via the `module__num_units` argument. This is exactly the same logic that allows to access estimator parameters in `sklearn Pipeline`s and `FeatureUnion`s."
   ]
  },
  {
   "cell_type": "markdown",
   "metadata": {},
   "source": [
    "This feature is useful in several ways. For one, it allows to set those parameters in the model definition. Furthermore, it allows you to set parameters in an `sklearn GridSearchCV` as shown below."
   ]
  },
  {
   "cell_type": "markdown",
   "metadata": {},
   "source": [
    "In addition to the parameters prefixed by `module__`, you may access a couple of other attributes, such as those of the optimizer by using the `optimizer__` prefix (again, see below). All those special prefixes are stored in the `prefixes_` attribute:"
   ]
  },
  {
   "cell_type": "code",
   "execution_count": 46,
   "metadata": {},
   "outputs": [
    {
     "name": "stdout",
     "output_type": "stream",
     "text": [
      "iterator_train, iterator_valid, callbacks, dataset, module, criterion, optimizer\n"
     ]
    }
   ],
   "source": [
    "print(', '.join(net.prefixes_))"
   ]
  },
  {
   "cell_type": "markdown",
   "metadata": {},
   "source": [
    "### Performing a grid search"
   ]
  },
  {
   "cell_type": "markdown",
   "metadata": {},
   "source": [
    "Below we show how to perform a grid search over the learning rate (`lr`), the module's number of hidden units (`module__num_units`), the module's dropout rate (`module__dropout`), and whether the SGD optimizer should use Nesterov momentum or not (`optimizer__nesterov`)."
   ]
  },
  {
   "cell_type": "code",
   "execution_count": 47,
   "metadata": {},
   "outputs": [],
   "source": [
    "from sklearn.model_selection import GridSearchCV"
   ]
  },
  {
   "cell_type": "code",
   "execution_count": 48,
   "metadata": {},
   "outputs": [],
   "source": [
    "net = NeuralNetClassifier(\n",
    "    ClassifierModule,\n",
    "    max_epochs=20,\n",
    "    lr=0.1,\n",
    "    optimizer__momentum=0.9,\n",
    "    verbose=0,\n",
    "    train_split=False,\n",
    ")"
   ]
  },
  {
   "cell_type": "markdown",
   "metadata": {},
   "source": [
    "*Note*: We set the verbosity level to zero (`verbose=0`) to prevent too much print output from being shown. Also, we disable the skorch-internal train-validation split (`train_split=False`) because `GridSearchCV` already splits the training data for us. We only have to leave the skorch-internal split enabled for some specific uses, e.g. to perform `EarlyStopping`."
   ]
  },
  {
   "cell_type": "code",
   "execution_count": 49,
   "metadata": {},
   "outputs": [],
   "source": [
    "params = {\n",
    "    'lr': [0.05, 0.1],\n",
    "    'module__num_units': [10, 20],\n",
    "    'module__dropout': [0, 0.5],\n",
    "    'optimizer__nesterov': [False, True],\n",
    "}"
   ]
  },
  {
   "cell_type": "code",
   "execution_count": 50,
   "metadata": {},
   "outputs": [],
   "source": [
    "gs = GridSearchCV(net, params, refit=False, cv=3, scoring='accuracy', verbose=2)"
   ]
  },
  {
   "cell_type": "code",
   "execution_count": 51,
   "metadata": {},
   "outputs": [
    {
     "name": "stdout",
     "output_type": "stream",
     "text": [
      "Fitting 3 folds for each of 16 candidates, totalling 48 fits\n",
      "[CV] END lr=0.05, module__dropout=0, module__num_units=10, optimizer__nesterov=False; total time=   0.3s\n",
      "[CV] END lr=0.05, module__dropout=0, module__num_units=10, optimizer__nesterov=False; total time=   0.2s\n",
      "[CV] END lr=0.05, module__dropout=0, module__num_units=10, optimizer__nesterov=False; total time=   0.4s\n",
      "[CV] END lr=0.05, module__dropout=0, module__num_units=10, optimizer__nesterov=True; total time=   0.3s\n",
      "[CV] END lr=0.05, module__dropout=0, module__num_units=10, optimizer__nesterov=True; total time=   0.3s\n",
      "[CV] END lr=0.05, module__dropout=0, module__num_units=10, optimizer__nesterov=True; total time=   0.2s\n",
      "[CV] END lr=0.05, module__dropout=0, module__num_units=20, optimizer__nesterov=False; total time=   0.2s\n",
      "[CV] END lr=0.05, module__dropout=0, module__num_units=20, optimizer__nesterov=False; total time=   0.2s\n",
      "[CV] END lr=0.05, module__dropout=0, module__num_units=20, optimizer__nesterov=False; total time=   0.2s\n",
      "[CV] END lr=0.05, module__dropout=0, module__num_units=20, optimizer__nesterov=True; total time=   0.2s\n",
      "[CV] END lr=0.05, module__dropout=0, module__num_units=20, optimizer__nesterov=True; total time=   0.3s\n",
      "[CV] END lr=0.05, module__dropout=0, module__num_units=20, optimizer__nesterov=True; total time=   0.3s\n",
      "[CV] END lr=0.05, module__dropout=0.5, module__num_units=10, optimizer__nesterov=False; total time=   0.2s\n",
      "[CV] END lr=0.05, module__dropout=0.5, module__num_units=10, optimizer__nesterov=False; total time=   0.3s\n",
      "[CV] END lr=0.05, module__dropout=0.5, module__num_units=10, optimizer__nesterov=False; total time=   0.2s\n",
      "[CV] END lr=0.05, module__dropout=0.5, module__num_units=10, optimizer__nesterov=True; total time=   0.3s\n",
      "[CV] END lr=0.05, module__dropout=0.5, module__num_units=10, optimizer__nesterov=True; total time=   0.3s\n",
      "[CV] END lr=0.05, module__dropout=0.5, module__num_units=10, optimizer__nesterov=True; total time=   0.3s\n",
      "[CV] END lr=0.05, module__dropout=0.5, module__num_units=20, optimizer__nesterov=False; total time=   0.3s\n",
      "[CV] END lr=0.05, module__dropout=0.5, module__num_units=20, optimizer__nesterov=False; total time=   0.3s\n",
      "[CV] END lr=0.05, module__dropout=0.5, module__num_units=20, optimizer__nesterov=False; total time=   0.3s\n",
      "[CV] END lr=0.05, module__dropout=0.5, module__num_units=20, optimizer__nesterov=True; total time=   0.3s\n",
      "[CV] END lr=0.05, module__dropout=0.5, module__num_units=20, optimizer__nesterov=True; total time=   0.3s\n",
      "[CV] END lr=0.05, module__dropout=0.5, module__num_units=20, optimizer__nesterov=True; total time=   0.4s\n",
      "[CV] END lr=0.1, module__dropout=0, module__num_units=10, optimizer__nesterov=False; total time=   0.3s\n",
      "[CV] END lr=0.1, module__dropout=0, module__num_units=10, optimizer__nesterov=False; total time=   0.2s\n",
      "[CV] END lr=0.1, module__dropout=0, module__num_units=10, optimizer__nesterov=False; total time=   0.6s\n",
      "[CV] END lr=0.1, module__dropout=0, module__num_units=10, optimizer__nesterov=True; total time=   0.3s\n",
      "[CV] END lr=0.1, module__dropout=0, module__num_units=10, optimizer__nesterov=True; total time=   0.3s\n",
      "[CV] END lr=0.1, module__dropout=0, module__num_units=10, optimizer__nesterov=True; total time=   0.6s\n",
      "[CV] END lr=0.1, module__dropout=0, module__num_units=20, optimizer__nesterov=False; total time=   0.4s\n",
      "[CV] END lr=0.1, module__dropout=0, module__num_units=20, optimizer__nesterov=False; total time=   0.3s\n",
      "[CV] END lr=0.1, module__dropout=0, module__num_units=20, optimizer__nesterov=False; total time=   0.3s\n",
      "[CV] END lr=0.1, module__dropout=0, module__num_units=20, optimizer__nesterov=True; total time=   0.3s\n",
      "[CV] END lr=0.1, module__dropout=0, module__num_units=20, optimizer__nesterov=True; total time=   0.3s\n",
      "[CV] END lr=0.1, module__dropout=0, module__num_units=20, optimizer__nesterov=True; total time=   0.3s\n",
      "[CV] END lr=0.1, module__dropout=0.5, module__num_units=10, optimizer__nesterov=False; total time=   0.3s\n",
      "[CV] END lr=0.1, module__dropout=0.5, module__num_units=10, optimizer__nesterov=False; total time=   0.4s\n",
      "[CV] END lr=0.1, module__dropout=0.5, module__num_units=10, optimizer__nesterov=False; total time=   0.4s\n",
      "[CV] END lr=0.1, module__dropout=0.5, module__num_units=10, optimizer__nesterov=True; total time=   0.4s\n",
      "[CV] END lr=0.1, module__dropout=0.5, module__num_units=10, optimizer__nesterov=True; total time=   0.4s\n",
      "[CV] END lr=0.1, module__dropout=0.5, module__num_units=10, optimizer__nesterov=True; total time=   0.3s\n",
      "[CV] END lr=0.1, module__dropout=0.5, module__num_units=20, optimizer__nesterov=False; total time=   0.3s\n",
      "[CV] END lr=0.1, module__dropout=0.5, module__num_units=20, optimizer__nesterov=False; total time=   0.3s\n",
      "[CV] END lr=0.1, module__dropout=0.5, module__num_units=20, optimizer__nesterov=False; total time=   0.3s\n",
      "[CV] END lr=0.1, module__dropout=0.5, module__num_units=20, optimizer__nesterov=True; total time=   0.3s\n",
      "[CV] END lr=0.1, module__dropout=0.5, module__num_units=20, optimizer__nesterov=True; total time=   0.4s\n",
      "[CV] END lr=0.1, module__dropout=0.5, module__num_units=20, optimizer__nesterov=True; total time=   0.4s\n"
     ]
    },
    {
     "data": {
      "text/plain": [
       "GridSearchCV(cv=3,\n",
       "             estimator=<class 'skorch.classifier.NeuralNetClassifier'>[uninitialized](\n",
       "  module=<class '__main__.ClassifierModule'>,\n",
       "),\n",
       "             param_grid={'lr': [0.05, 0.1], 'module__dropout': [0, 0.5],\n",
       "                         'module__num_units': [10, 20],\n",
       "                         'optimizer__nesterov': [False, True]},\n",
       "             refit=False, scoring='accuracy', verbose=2)"
      ]
     },
     "execution_count": 51,
     "metadata": {},
     "output_type": "execute_result"
    }
   ],
   "source": [
    "gs.fit(X, y)"
   ]
  },
  {
   "cell_type": "code",
   "execution_count": 52,
   "metadata": {
    "scrolled": true
   },
   "outputs": [
    {
     "name": "stdout",
     "output_type": "stream",
     "text": [
      "0.8719797641953332 {'lr': 0.1, 'module__dropout': 0, 'module__num_units': 20, 'optimizer__nesterov': True}\n"
     ]
    }
   ],
   "source": [
    "print(gs.best_score_, gs.best_params_)"
   ]
  },
  {
   "cell_type": "markdown",
   "metadata": {},
   "source": [
    "Of course, we could further nest the `NeuralNetClassifier` within an `sklearn Pipeline`, in which case we just prefix the parameter by the name of the net (e.g. `net__module__num_units`)."
   ]
  }
 ],
 "metadata": {
  "kernelspec": {
   "display_name": "base",
   "language": "python",
   "name": "python3"
  },
  "language_info": {
   "codemirror_mode": {
    "name": "ipython",
    "version": 3
   },
   "file_extension": ".py",
   "mimetype": "text/x-python",
   "name": "python",
   "nbconvert_exporter": "python",
   "pygments_lexer": "ipython3",
   "version": "3.7.13 (default, Mar 28 2022, 08:03:21) [MSC v.1916 64 bit (AMD64)]"
  },
  "vscode": {
   "interpreter": {
    "hash": "bd97b8bffa4d3737e84826bc3d37be3046061822757ce35137ab82ad4c5a2016"
   }
  }
 },
 "nbformat": 4,
 "nbformat_minor": 2
}
