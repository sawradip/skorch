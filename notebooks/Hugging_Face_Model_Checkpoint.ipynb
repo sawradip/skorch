{
  "cells": [
    {
      "cell_type": "markdown",
      "metadata": {
        "id": "NM_4nRlZfyY0"
      },
      "source": [
        "# Creating checkpoints on the Hugging Face Hub"
      ]
    },
    {
      "cell_type": "markdown",
      "metadata": {
        "id": "xITS6UEjfyY3"
      },
      "source": [
        "This short notebook explains how you can create a model checkpoint on [Hugging Face Hub](https://huggingface.co/docs/hub/repositories)."
      ]
    },
    {
      "cell_type": "code",
      "execution_count": 1,
      "metadata": {
        "id": "Gnls5_nRgD1j"
      },
      "outputs": [],
      "source": [
        "import subprocess\n",
        "\n",
        "# Installation on Google Colab\n",
        "try:\n",
        "    import google.colab\n",
        "    subprocess.run(['python', '-m', 'pip', 'install', 'skorch' , 'huggingface_hub', 'transformers'])\n",
        "except ImportError:\n",
        "    pass"
      ]
    },
    {
      "cell_type": "markdown",
      "metadata": {
        "id": "0FEout2nfyY6"
      },
      "source": [
        "## Imports"
      ]
    },
    {
      "cell_type": "code",
      "execution_count": 2,
      "metadata": {
        "id": "DdLBacmAfyY8"
      },
      "outputs": [],
      "source": [
        "import os"
      ]
    },
    {
      "cell_type": "code",
      "execution_count": 3,
      "metadata": {
        "id": "U2WIUS_FfyY_"
      },
      "outputs": [],
      "source": [
        "import numpy as np\n",
        "import torch\n",
        "from sklearn.datasets import make_classification\n",
        "from sklearn.model_selection import train_test_split\n",
        "from torch import nn"
      ]
    },
    {
      "cell_type": "code",
      "execution_count": 4,
      "metadata": {
        "id": "uELKhQN9fyZC"
      },
      "outputs": [],
      "source": [
        "from skorch import NeuralNetClassifier\n",
        "from skorch.callbacks import TrainEndCheckpoint\n",
        "from skorch.hf import HfHubStorage"
      ]
    },
    {
      "cell_type": "code",
      "execution_count": 5,
      "metadata": {
        "id": "qTfESr_3fyZE"
      },
      "outputs": [],
      "source": [
        "from huggingface_hub import Repository, create_repo, HfApi"
      ]
    },
    {
      "cell_type": "markdown",
      "metadata": {
        "id": "f8XDR3l3fyZG"
      },
      "source": [
        "If not installed already, please install the [Hugging Face Hub](https://huggingface.co/docs/huggingface_hub/index) library:\n",
        "\n",
        "`$ python -m pip install huggingface_hub`\n",
        "\n",
        "Also, you need `skorch>=0.12` or installed from the master branch on GitHub."
      ]
    },
    {
      "cell_type": "markdown",
      "metadata": {
        "id": "4hXLIgZ8fyZI"
      },
      "source": [
        "<table align=\"left\"><td>\n",
        "<a target=\"_blank\" href=\"https://colab.research.google.com/github/skorch-dev/skorch/blob/master/notebooks/Hugging_Face_Checkpoint.ipynb\">\n",
        "    <img src=\"https://www.tensorflow.org/images/colab_logo_32px.png\" />Run in Google Colab</a>  \n",
        "</td><td>\n",
        "<a target=\"_blank\" href=\"https://github.com/skorch-dev/skorch/blob/master/notebooks/Hugging_Face_Checkpoint.ipynb\"><img width=32px src=\"https://www.tensorflow.org/images/GitHub-Mark-32px.png\" />View source on GitHub</a></td></table>"
      ]
    },
    {
      "cell_type": "markdown",
      "metadata": {
        "id": "tcT0N4L1fyZL"
      },
      "source": [
        "## Settings"
      ]
    },
    {
      "cell_type": "code",
      "execution_count": 6,
      "metadata": {
        "id": "ILZLjJSKfyZL"
      },
      "outputs": [],
      "source": [
        "# set the token as an environment variable called HF_TOKEN, e.g. `HF_TOKEN=hf_...`\n",
        "# the token can be found at: https://huggingface.co/settings/tokens\n",
        "TOKEN = os.environ['HF_TOKEN']\n",
        "# choose name for the whole model and for the model weights\n",
        "# typically, you only need one of the two, we use both for demonstration purposes\n",
        "MODEL_NAME = 'skorch-model.pkl'\n",
        "WEIGHTS_NAME = 'weights.pt'\n",
        "# choose a repo name within your user account or organization\n",
        "REPO_NAME = 'sawradip/demo-skorch'"
      ]
    },
    {
      "cell_type": "code",
      "execution_count": 7,
      "metadata": {
        "id": "6pNJfb8qfyZN"
      },
      "outputs": [],
      "source": [
        "torch.manual_seed(0)\n",
        "np.random.seed(0)"
      ]
    },
    {
      "cell_type": "markdown",
      "metadata": {
        "id": "DjmH2ZxVfyZN"
      },
      "source": [
        "## Create data"
      ]
    },
    {
      "cell_type": "markdown",
      "metadata": {
        "id": "N-g1bkuvfyZO"
      },
      "source": [
        "We use a toy dataset for this demo."
      ]
    },
    {
      "cell_type": "code",
      "execution_count": 8,
      "metadata": {
        "id": "XyXgoQKVfyZO"
      },
      "outputs": [],
      "source": [
        "X, y = make_classification(10000, 20, n_informative=10, random_state=0)\n",
        "X, y = X.astype(np.float32), y.astype(np.int64)"
      ]
    },
    {
      "cell_type": "code",
      "execution_count": 9,
      "metadata": {
        "id": "ZLQioMN7fyZP"
      },
      "outputs": [],
      "source": [
        "X_train, X_test, y_train, y_test = train_test_split(X, y, random_state=0)"
      ]
    },
    {
      "cell_type": "markdown",
      "metadata": {
        "id": "CujSNR4sfyZQ"
      },
      "source": [
        "## Define model"
      ]
    },
    {
      "cell_type": "markdown",
      "metadata": {
        "id": "0AdbR0JFfyZQ"
      },
      "source": [
        "### The module"
      ]
    },
    {
      "cell_type": "code",
      "execution_count": 10,
      "metadata": {
        "id": "RNLyLu5zfyZR"
      },
      "outputs": [],
      "source": [
        "class ClassifierModule(nn.Module):\n",
        "    def __init__(\n",
        "            self,\n",
        "            num_units=30,\n",
        "            nonlin=nn.ReLU(),\n",
        "            dropout=0.5,\n",
        "    ):\n",
        "        super(ClassifierModule, self).__init__()\n",
        "        self.num_units = num_units\n",
        "        self.nonlin = nonlin\n",
        "        self.dropout = dropout\n",
        "\n",
        "        self.dense0 = nn.Linear(20, num_units)\n",
        "        self.nonlin = nonlin\n",
        "        self.dropout = nn.Dropout(dropout)\n",
        "        self.dense1 = nn.Linear(num_units, num_units)\n",
        "        self.output = nn.Linear(num_units, 2)\n",
        "        self.softmax = nn.Softmax(dim=-1)\n",
        "\n",
        "    def forward(self, X, **kwargs):\n",
        "        X = self.nonlin(self.dense0(X))\n",
        "        X = self.dropout(X)\n",
        "        X = self.nonlin(self.dense1(X))\n",
        "        X = self.softmax(self.output(X))\n",
        "        return X"
      ]
    },
    {
      "cell_type": "markdown",
      "metadata": {
        "id": "MYENk5rJfyZS"
      },
      "source": [
        "### Create a repository on Hugging Face Hub"
      ]
    },
    {
      "cell_type": "markdown",
      "metadata": {
        "id": "WPQWKSjGfyZS"
      },
      "source": [
        "Assuming the repo doesn't exist yet, create a new one using this function:"
      ]
    },
    {
      "cell_type": "code",
      "execution_count": 11,
      "metadata": {
        "colab": {
          "base_uri": "https://localhost:8080/",
          "height": 35
        },
        "id": "EOdGpJnjfyZS",
        "outputId": "29d64713-6bfb-4b59-be8e-3c7a7cbfcd41"
      },
      "outputs": [
        {
          "data": {
            "application/vnd.google.colaboratory.intrinsic+json": {
              "type": "string"
            },
            "text/plain": [
              "'https://huggingface.co/sawradip/demo-skorch'"
            ]
          },
          "execution_count": 11,
          "metadata": {},
          "output_type": "execute_result"
        }
      ],
      "source": [
        "skorch_repo = create_repo(\n",
        "    REPO_NAME,\n",
        "    private=False,  # set to False if it should be public\n",
        "    token=TOKEN,\n",
        "    exist_ok=True,\n",
        ")\n",
        "skorch_repo"
      ]
    },
    {
      "cell_type": "markdown",
      "metadata": {
        "id": "bcE6tTqefyZT"
      },
      "source": [
        "### Create a `HfHubStorage` instance to use with the `TrainEndCheckpoint` callback"
      ]
    },
    {
      "cell_type": "markdown",
      "metadata": {
        "id": "wf_KURmdfyZU"
      },
      "source": [
        "The ingredient we need to save models on the hub is the `skorch.hf.HfHubStorage`. This object can be used instead of a filename when you use `skorch.callbacks.TrainEndCheckpoint` (or `skorch.callbacks.Checkpoint`, but more on that later). Therefore, you can continue to use your existing checkpoints, only that models are stored on Hugging Face Hub instead of locally."
      ]
    },
    {
      "cell_type": "markdown",
      "metadata": {
        "id": "melwPiVmfyZU"
      },
      "source": [
        "As a first step, we need to create a `HfApi` instance, which is used by the `HfHubStorage` to perform the upload."
      ]
    },
    {
      "cell_type": "code",
      "execution_count": 12,
      "metadata": {
        "id": "8fQMbifAfyZU"
      },
      "outputs": [],
      "source": [
        "hf_api = HfApi()"
      ]
    },
    {
      "cell_type": "markdown",
      "metadata": {
        "id": "yhEB4_OafyZV"
      },
      "source": [
        "Then, we create a `hub_pickle_storer`, which is used by the checkpoint callback to write the whole skorch model as a pickle file to the indicated repository. We indicate the file path, repository name, and the Hugging Face token. Optionally, we can also set `verbose=1` to print a message when a file has been uploaded."
      ]
    },
    {
      "cell_type": "code",
      "execution_count": 13,
      "metadata": {
        "id": "Nm-DFF9MfyZV"
      },
      "outputs": [],
      "source": [
        "hub_pickle_storer = HfHubStorage(\n",
        "    hf_api,\n",
        "    path_in_repo=MODEL_NAME,\n",
        "    repo_id=REPO_NAME,\n",
        "    token=TOKEN,\n",
        "    verbose=1,\n",
        ")"
      ]
    },
    {
      "cell_type": "markdown",
      "metadata": {
        "id": "3Wq9b5t0fyZV"
      },
      "source": [
        "Instead of writing the whole skorch model to the Hub, we can also decide to only write specific components, e.g. the `module`. This saves the `state_dict` of the module to the Hub using `torch.save` under the hood.\n",
        "\n",
        "Also, by default, the parameters are stored in an in-memory buffer. If you want to avoid that memory overhead, it is possible to save it on disk using the `local_storage` argument. Below, we choose to store the model weights in a file called `my-model-weights.pt`."
      ]
    },
    {
      "cell_type": "code",
      "execution_count": 14,
      "metadata": {
        "id": "Dxkol4BYfyZW"
      },
      "outputs": [],
      "source": [
        "hub_params_storer = HfHubStorage(\n",
        "    hf_api,\n",
        "    path_in_repo=WEIGHTS_NAME,\n",
        "    repo_id=REPO_NAME,\n",
        "    token=TOKEN,\n",
        "    verbose=1,\n",
        "    local_storage='my-model-weights.pt',\n",
        ")"
      ]
    },
    {
      "cell_type": "markdown",
      "metadata": {
        "id": "SRGCCOJpfyZW"
      },
      "source": [
        "The other attributes (optimizer, criterion, training history) are not saved for this demo. That's why we set their values to `None` when initializing the `TrainEndCheckpoint` below."
      ]
    },
    {
      "cell_type": "code",
      "execution_count": 15,
      "metadata": {
        "id": "EorN5u8EfyZW"
      },
      "outputs": [],
      "source": [
        "checkpoint = TrainEndCheckpoint(\n",
        "    f_pickle=hub_pickle_storer,\n",
        "    f_params=hub_params_storer,\n",
        "    f_optimizer=None,\n",
        "    f_criterion=None,\n",
        "    f_history=None,\n",
        ")"
      ]
    },
    {
      "cell_type": "markdown",
      "metadata": {
        "id": "JzfV1QJCfyZX"
      },
      "source": [
        "Finally, let's create our net and fit it with the data. The checkpoint callback will automatically store the parameters on the Hugging Face Hub at the end of training."
      ]
    },
    {
      "cell_type": "code",
      "execution_count": 16,
      "metadata": {
        "id": "UP0zP3WKfyZX"
      },
      "outputs": [],
      "source": [
        "net = NeuralNetClassifier(\n",
        "    ClassifierModule,\n",
        "    lr=0.1,\n",
        "    device='cpu',\n",
        "    iterator_train__shuffle=True,\n",
        "    callbacks=[checkpoint],\n",
        ")"
      ]
    },
    {
      "cell_type": "code",
      "execution_count": 17,
      "metadata": {
        "colab": {
          "base_uri": "https://localhost:8080/"
        },
        "id": "N85J0ljOfyZY",
        "outputId": "2071d886-b838-4e9a-a9c6-b3f355379bf8",
        "scrolled": false
      },
      "outputs": [
        {
          "name": "stdout",
          "output_type": "stream",
          "text": [
            "  epoch    train_loss    valid_acc    valid_loss     dur\n",
            "-------  ------------  -----------  ------------  ------\n",
            "      1        \u001b[36m0.6627\u001b[0m       \u001b[32m0.7573\u001b[0m        \u001b[35m0.5772\u001b[0m  0.3237\n",
            "      2        \u001b[36m0.5550\u001b[0m       \u001b[32m0.8593\u001b[0m        \u001b[35m0.4154\u001b[0m  0.1127\n",
            "      3        \u001b[36m0.4622\u001b[0m       \u001b[32m0.8973\u001b[0m        \u001b[35m0.3253\u001b[0m  0.0997\n",
            "      4        \u001b[36m0.4119\u001b[0m       \u001b[32m0.9073\u001b[0m        \u001b[35m0.2840\u001b[0m  0.1122\n",
            "      5        \u001b[36m0.3739\u001b[0m       \u001b[32m0.9113\u001b[0m        \u001b[35m0.2569\u001b[0m  0.1006\n",
            "      6        \u001b[36m0.3489\u001b[0m       \u001b[32m0.9213\u001b[0m        \u001b[35m0.2368\u001b[0m  0.1105\n",
            "      7        \u001b[36m0.3331\u001b[0m       \u001b[32m0.9240\u001b[0m        \u001b[35m0.2328\u001b[0m  0.1032\n",
            "      8        \u001b[36m0.3115\u001b[0m       \u001b[32m0.9287\u001b[0m        \u001b[35m0.2187\u001b[0m  0.0994\n",
            "      9        0.3117       \u001b[32m0.9300\u001b[0m        \u001b[35m0.2087\u001b[0m  0.1355\n",
            "     10        \u001b[36m0.2983\u001b[0m       \u001b[32m0.9320\u001b[0m        0.2102  0.1012\n",
            "Uploaded file to https://huggingface.co/sawradip/demo-skorch/blob/main/weights.pt\n",
            "Uploaded file to https://huggingface.co/sawradip/demo-skorch/blob/main/skorch-model.pkl\n"
          ]
        },
        {
          "data": {
            "text/plain": [
              "<class 'skorch.classifier.NeuralNetClassifier'>[initialized](\n",
              "  module_=ClassifierModule(\n",
              "    (nonlin): ReLU()\n",
              "    (dense0): Linear(in_features=20, out_features=30, bias=True)\n",
              "    (dropout): Dropout(p=0.5, inplace=False)\n",
              "    (dense1): Linear(in_features=30, out_features=30, bias=True)\n",
              "    (output): Linear(in_features=30, out_features=2, bias=True)\n",
              "    (softmax): Softmax(dim=-1)\n",
              "  ),\n",
              ")"
            ]
          },
          "execution_count": 17,
          "metadata": {},
          "output_type": "execute_result"
        }
      ],
      "source": [
        "net.fit(X_train, y_train)"
      ]
    },
    {
      "cell_type": "markdown",
      "metadata": {
        "id": "R4rU2NFSfyZY"
      },
      "source": [
        "As you can see, both the weights of the PyTorch module and the whole skorch model were saved on Hub. Visit the printed URLs to see them on the Hub."
      ]
    },
    {
      "cell_type": "markdown",
      "metadata": {
        "id": "wxmWH3hofyZZ"
      },
      "source": [
        "As a next step, think about adding a [Model Card](https://huggingface.co/docs/hub/models-cards) to your repository to provide further information about the model."
      ]
    },
    {
      "cell_type": "markdown",
      "metadata": {
        "id": "MQ5GGidHfyZZ"
      },
      "source": [
        "<div class=\"alert alert-block alert-info\">\n",
        "    <b>Info: Using the HfHubStorage with Checkpoint:</b><br>\n",
        "\n",
        "\n",
        "Right now, we use `TrainEndCheckpoint`, which uploads the model only once, at the end of training. Instead, we could use `Checkpoint`, which uploads the model each time that the monitored metric improves. You should note, however, that at the moment, the upload is _synchronous_, i.e. we wait for the upload to finish. So if uploading the model takes a long time compared to training the model, your training process could be slowed down considerably, depending on how often the model improves.\n",
        "\n",
        "If you still decide to use `Checkpoint`, you might want to keep a version of each upload file, instead of the latest one overwriting the previous one. This is possible by choosing a templated model name, e.g. `'skorch-model-{}.pkl'`. This way, the first upload will create the file `'skorch-model-0.pkl'`, the second one creates the file `'skorch-model-1.pkl'`, etc.\n",
        "</div>"
      ]
    },
    {
      "cell_type": "markdown",
      "metadata": {
        "id": "ZSzd6Fy6fyZa"
      },
      "source": [
        "## Loading"
      ]
    },
    {
      "cell_type": "code",
      "execution_count": 18,
      "metadata": {
        "id": "B-8aWvf1fyZb"
      },
      "outputs": [],
      "source": [
        "import pickle\n",
        "from huggingface_hub import hf_hub_download\n",
        "from sklearn.metrics import accuracy_score"
      ]
    },
    {
      "cell_type": "markdown",
      "metadata": {
        "id": "Rb5IrDldfyZb"
      },
      "source": [
        "### Loading the whole model"
      ]
    },
    {
      "cell_type": "markdown",
      "metadata": {
        "id": "cfYchdAGfyZb"
      },
      "source": [
        "The skorch model is just a normal pickle file and can be loaded like this:"
      ]
    },
    {
      "cell_type": "code",
      "execution_count": 19,
      "metadata": {
        "colab": {
          "base_uri": "https://localhost:8080/",
          "height": 35
        },
        "id": "TaoiDcUqfyZb",
        "outputId": "122ed97b-d016-46c8-cbb1-c1df406db94a"
      },
      "outputs": [
        {
          "data": {
            "application/vnd.google.colaboratory.intrinsic+json": {
              "type": "string"
            },
            "text/plain": [
              "'https://huggingface.co/sawradip/demo-skorch/blob/main/skorch-model.pkl'"
            ]
          },
          "execution_count": 19,
          "metadata": {},
          "output_type": "execute_result"
        }
      ],
      "source": [
        "hub_pickle_storer.latest_url_"
      ]
    },
    {
      "cell_type": "code",
      "execution_count": 20,
      "metadata": {
        "colab": {
          "base_uri": "https://localhost:8080/",
          "height": 49,
          "referenced_widgets": [
            "e0c5544113084c248aa0358a5e506bad",
            "7e92b933ac6b48b1b48035f8f573c219",
            "f90bf80b70b946aa962ed237a7c3ea06",
            "8a60084abf2c48dfba63e79e8072a844",
            "9a8d2e1a118b4eb8944eb03a842d4718",
            "e7d85e270eb34c2daf701bfd415bd09f",
            "eb32f92d8ddc4c05931b038e66659663",
            "ef8ef95adc93431b829f1fd87f9c5788",
            "afddf4dd005c4ad69ba467fa3a7ac1a1",
            "a49f08b689064a01aca835113e7c895e",
            "588262b260bf4fc5a21e0c641a34150b"
          ]
        },
        "id": "vigihCj-fyZc",
        "outputId": "d61d71f3-16a9-4ed6-e039-91acad08742d"
      },
      "outputs": [
        {
          "data": {
            "application/vnd.jupyter.widget-view+json": {
              "model_id": "e0c5544113084c248aa0358a5e506bad",
              "version_major": 2,
              "version_minor": 0
            },
            "text/plain": [
              "Downloading:   0%|          | 0.00/43.2k [00:00<?, ?B/s]"
            ]
          },
          "metadata": {},
          "output_type": "display_data"
        }
      ],
      "source": [
        "path = hf_hub_download(REPO_NAME, MODEL_NAME, use_auth_token=TOKEN)"
      ]
    },
    {
      "cell_type": "code",
      "execution_count": 21,
      "metadata": {
        "id": "D_0t8Pd4fyZc"
      },
      "outputs": [],
      "source": [
        "with open(path, 'rb') as f:\n",
        "    net_loaded = pickle.load(f)"
      ]
    },
    {
      "cell_type": "code",
      "execution_count": 22,
      "metadata": {
        "colab": {
          "base_uri": "https://localhost:8080/"
        },
        "id": "4hhN0Hf8fyZc",
        "outputId": "6cc1b799-2831-4c44-e210-17c46a55ff9f"
      },
      "outputs": [
        {
          "data": {
            "text/plain": [
              "0.9334"
            ]
          },
          "execution_count": 22,
          "metadata": {},
          "output_type": "execute_result"
        }
      ],
      "source": [
        "accuracy_score(y, net_loaded.predict(X))"
      ]
    },
    {
      "cell_type": "markdown",
      "metadata": {
        "id": "oyTsrq5gfyZd"
      },
      "source": [
        "### Loading the model weights"
      ]
    },
    {
      "cell_type": "markdown",
      "metadata": {
        "id": "ubnfg6vSfyZd"
      },
      "source": [
        "The model weights are stored as a PyTorch `state_dict`."
      ]
    },
    {
      "cell_type": "code",
      "execution_count": 23,
      "metadata": {
        "colab": {
          "base_uri": "https://localhost:8080/",
          "height": 35
        },
        "id": "z37GCi3SfyZe",
        "outputId": "ac634545-c092-4a9e-8628-a579cf060a6b",
        "scrolled": true
      },
      "outputs": [
        {
          "data": {
            "application/vnd.google.colaboratory.intrinsic+json": {
              "type": "string"
            },
            "text/plain": [
              "'https://huggingface.co/sawradip/demo-skorch/blob/main/weights.pt'"
            ]
          },
          "execution_count": 23,
          "metadata": {},
          "output_type": "execute_result"
        }
      ],
      "source": [
        "hub_params_storer.latest_url_"
      ]
    },
    {
      "cell_type": "code",
      "execution_count": 24,
      "metadata": {
        "colab": {
          "base_uri": "https://localhost:8080/",
          "height": 49,
          "referenced_widgets": [
            "95b6665cffbe4685a4e755e2036125d4",
            "04a1af0d481546e5827e420811524e3c",
            "96fbab1affaa4078bec61974c808e48a",
            "019d0c515c8e40c9b4fd8a4b4573ec12",
            "5d015d0d9f64401d9502b9edb119f874",
            "e5ef3050457445fa8dce19fcd0faaa71",
            "3435d7d7b36c4ab3a89a4a3a059da243",
            "90965d7219f74877a22a317e173d0f78",
            "ed3c1c023785482081de1dde67d7694f",
            "3f9987f34cc142dd8fcf507b0d52c386",
            "360806b60bf44436ad2bc976bc43e6c3"
          ]
        },
        "id": "TzCzr8lufyZf",
        "outputId": "ba03b5f5-af56-4322-ad6a-50dcf3e99923",
        "scrolled": true
      },
      "outputs": [
        {
          "data": {
            "application/vnd.jupyter.widget-view+json": {
              "model_id": "95b6665cffbe4685a4e755e2036125d4",
              "version_major": 2,
              "version_minor": 0
            },
            "text/plain": [
              "Downloading:   0%|          | 0.00/8.54k [00:00<?, ?B/s]"
            ]
          },
          "metadata": {},
          "output_type": "display_data"
        }
      ],
      "source": [
        "path = hf_hub_download(REPO_NAME, WEIGHTS_NAME, use_auth_token=TOKEN)"
      ]
    },
    {
      "cell_type": "code",
      "execution_count": 25,
      "metadata": {
        "id": "1JdZYBU0fyZf"
      },
      "outputs": [],
      "source": [
        "with open(path, 'rb') as f:\n",
        "    weights_loaded = torch.load(f)"
      ]
    },
    {
      "cell_type": "code",
      "execution_count": 26,
      "metadata": {
        "colab": {
          "base_uri": "https://localhost:8080/"
        },
        "id": "jaRVCuumfyZf",
        "outputId": "a8a3d621-550d-4085-d9e4-6cf21cd755c9"
      },
      "outputs": [
        {
          "name": "stdout",
          "output_type": "stream",
          "text": [
            "Parameter name 'dense0.weight' and shape torch.Size([30, 20])\n",
            "Parameter name 'dense0.bias' and shape torch.Size([30])\n",
            "Parameter name 'dense1.weight' and shape torch.Size([30, 30])\n",
            "Parameter name 'dense1.bias' and shape torch.Size([30])\n",
            "Parameter name 'output.weight' and shape torch.Size([2, 30])\n",
            "Parameter name 'output.bias' and shape torch.Size([2])\n"
          ]
        }
      ],
      "source": [
        "for key, val in weights_loaded.items():\n",
        "    print(f\"Parameter name '{key}' and shape {val.shape}\")"
      ]
    },
    {
      "cell_type": "markdown",
      "metadata": {
        "id": "ms2YFNngfyZg"
      },
      "source": [
        "Typically, when you store the whole skorch model, you don't need to store the weights separately, as they are already part of the whole model:"
      ]
    },
    {
      "cell_type": "code",
      "execution_count": 27,
      "metadata": {
        "colab": {
          "base_uri": "https://localhost:8080/"
        },
        "id": "uxoQkspufyZh",
        "outputId": "615f3411-abd3-442e-b256-fcfccba02786"
      },
      "outputs": [
        {
          "name": "stdout",
          "output_type": "stream",
          "text": [
            "Parameter name 'dense0.weight' and shape torch.Size([30, 20])\n",
            "Parameter name 'dense0.bias' and shape torch.Size([30])\n",
            "Parameter name 'dense1.weight' and shape torch.Size([30, 30])\n",
            "Parameter name 'dense1.bias' and shape torch.Size([30])\n",
            "Parameter name 'output.weight' and shape torch.Size([2, 30])\n",
            "Parameter name 'output.bias' and shape torch.Size([2])\n"
          ]
        }
      ],
      "source": [
        "for key, val in net_loaded.module_.state_dict().items():\n",
        "    print(f\"Parameter name '{key}' and shape {val.shape}\")"
      ]
    },
    {
      "cell_type": "markdown",
      "metadata": {
        "id": "sIWTsVE-fyZi"
      },
      "source": [
        "However, there can be situations where you don't need the whole skorch model, in which case you can only store the model weights."
      ]
    },
    {
      "cell_type": "code",
      "execution_count": 27,
      "metadata": {
        "id": "4H5yk49GH-0N"
      },
      "outputs": [],
      "source": []
    }
  ],
  "metadata": {
    "colab": {
      "provenance": []
    },
    "kernelspec": {
      "display_name": "base",
      "language": "python",
      "name": "python3"
    },
    "language_info": {
      "codemirror_mode": {
        "name": "ipython",
        "version": 3
      },
      "file_extension": ".py",
      "mimetype": "text/x-python",
      "name": "python",
      "nbconvert_exporter": "python",
      "pygments_lexer": "ipython3",
      "version": "3.7.13 (default, Mar 28 2022, 08:03:21) [MSC v.1916 64 bit (AMD64)]"
    },
    "vscode": {
      "interpreter": {
        "hash": "bd97b8bffa4d3737e84826bc3d37be3046061822757ce35137ab82ad4c5a2016"
      }
    },
    "widgets": {
      "application/vnd.jupyter.widget-state+json": {
        "019d0c515c8e40c9b4fd8a4b4573ec12": {
          "model_module": "@jupyter-widgets/controls",
          "model_module_version": "1.5.0",
          "model_name": "HTMLModel",
          "state": {
            "_dom_classes": [],
            "_model_module": "@jupyter-widgets/controls",
            "_model_module_version": "1.5.0",
            "_model_name": "HTMLModel",
            "_view_count": null,
            "_view_module": "@jupyter-widgets/controls",
            "_view_module_version": "1.5.0",
            "_view_name": "HTMLView",
            "description": "",
            "description_tooltip": null,
            "layout": "IPY_MODEL_3f9987f34cc142dd8fcf507b0d52c386",
            "placeholder": "​",
            "style": "IPY_MODEL_360806b60bf44436ad2bc976bc43e6c3",
            "value": " 8.54k/8.54k [00:00&lt;00:00, 291kB/s]"
          }
        },
        "04a1af0d481546e5827e420811524e3c": {
          "model_module": "@jupyter-widgets/controls",
          "model_module_version": "1.5.0",
          "model_name": "HTMLModel",
          "state": {
            "_dom_classes": [],
            "_model_module": "@jupyter-widgets/controls",
            "_model_module_version": "1.5.0",
            "_model_name": "HTMLModel",
            "_view_count": null,
            "_view_module": "@jupyter-widgets/controls",
            "_view_module_version": "1.5.0",
            "_view_name": "HTMLView",
            "description": "",
            "description_tooltip": null,
            "layout": "IPY_MODEL_e5ef3050457445fa8dce19fcd0faaa71",
            "placeholder": "​",
            "style": "IPY_MODEL_3435d7d7b36c4ab3a89a4a3a059da243",
            "value": "Downloading: 100%"
          }
        },
        "3435d7d7b36c4ab3a89a4a3a059da243": {
          "model_module": "@jupyter-widgets/controls",
          "model_module_version": "1.5.0",
          "model_name": "DescriptionStyleModel",
          "state": {
            "_model_module": "@jupyter-widgets/controls",
            "_model_module_version": "1.5.0",
            "_model_name": "DescriptionStyleModel",
            "_view_count": null,
            "_view_module": "@jupyter-widgets/base",
            "_view_module_version": "1.2.0",
            "_view_name": "StyleView",
            "description_width": ""
          }
        },
        "360806b60bf44436ad2bc976bc43e6c3": {
          "model_module": "@jupyter-widgets/controls",
          "model_module_version": "1.5.0",
          "model_name": "DescriptionStyleModel",
          "state": {
            "_model_module": "@jupyter-widgets/controls",
            "_model_module_version": "1.5.0",
            "_model_name": "DescriptionStyleModel",
            "_view_count": null,
            "_view_module": "@jupyter-widgets/base",
            "_view_module_version": "1.2.0",
            "_view_name": "StyleView",
            "description_width": ""
          }
        },
        "3f9987f34cc142dd8fcf507b0d52c386": {
          "model_module": "@jupyter-widgets/base",
          "model_module_version": "1.2.0",
          "model_name": "LayoutModel",
          "state": {
            "_model_module": "@jupyter-widgets/base",
            "_model_module_version": "1.2.0",
            "_model_name": "LayoutModel",
            "_view_count": null,
            "_view_module": "@jupyter-widgets/base",
            "_view_module_version": "1.2.0",
            "_view_name": "LayoutView",
            "align_content": null,
            "align_items": null,
            "align_self": null,
            "border": null,
            "bottom": null,
            "display": null,
            "flex": null,
            "flex_flow": null,
            "grid_area": null,
            "grid_auto_columns": null,
            "grid_auto_flow": null,
            "grid_auto_rows": null,
            "grid_column": null,
            "grid_gap": null,
            "grid_row": null,
            "grid_template_areas": null,
            "grid_template_columns": null,
            "grid_template_rows": null,
            "height": null,
            "justify_content": null,
            "justify_items": null,
            "left": null,
            "margin": null,
            "max_height": null,
            "max_width": null,
            "min_height": null,
            "min_width": null,
            "object_fit": null,
            "object_position": null,
            "order": null,
            "overflow": null,
            "overflow_x": null,
            "overflow_y": null,
            "padding": null,
            "right": null,
            "top": null,
            "visibility": null,
            "width": null
          }
        },
        "588262b260bf4fc5a21e0c641a34150b": {
          "model_module": "@jupyter-widgets/controls",
          "model_module_version": "1.5.0",
          "model_name": "DescriptionStyleModel",
          "state": {
            "_model_module": "@jupyter-widgets/controls",
            "_model_module_version": "1.5.0",
            "_model_name": "DescriptionStyleModel",
            "_view_count": null,
            "_view_module": "@jupyter-widgets/base",
            "_view_module_version": "1.2.0",
            "_view_name": "StyleView",
            "description_width": ""
          }
        },
        "5d015d0d9f64401d9502b9edb119f874": {
          "model_module": "@jupyter-widgets/base",
          "model_module_version": "1.2.0",
          "model_name": "LayoutModel",
          "state": {
            "_model_module": "@jupyter-widgets/base",
            "_model_module_version": "1.2.0",
            "_model_name": "LayoutModel",
            "_view_count": null,
            "_view_module": "@jupyter-widgets/base",
            "_view_module_version": "1.2.0",
            "_view_name": "LayoutView",
            "align_content": null,
            "align_items": null,
            "align_self": null,
            "border": null,
            "bottom": null,
            "display": null,
            "flex": null,
            "flex_flow": null,
            "grid_area": null,
            "grid_auto_columns": null,
            "grid_auto_flow": null,
            "grid_auto_rows": null,
            "grid_column": null,
            "grid_gap": null,
            "grid_row": null,
            "grid_template_areas": null,
            "grid_template_columns": null,
            "grid_template_rows": null,
            "height": null,
            "justify_content": null,
            "justify_items": null,
            "left": null,
            "margin": null,
            "max_height": null,
            "max_width": null,
            "min_height": null,
            "min_width": null,
            "object_fit": null,
            "object_position": null,
            "order": null,
            "overflow": null,
            "overflow_x": null,
            "overflow_y": null,
            "padding": null,
            "right": null,
            "top": null,
            "visibility": null,
            "width": null
          }
        },
        "7e92b933ac6b48b1b48035f8f573c219": {
          "model_module": "@jupyter-widgets/controls",
          "model_module_version": "1.5.0",
          "model_name": "HTMLModel",
          "state": {
            "_dom_classes": [],
            "_model_module": "@jupyter-widgets/controls",
            "_model_module_version": "1.5.0",
            "_model_name": "HTMLModel",
            "_view_count": null,
            "_view_module": "@jupyter-widgets/controls",
            "_view_module_version": "1.5.0",
            "_view_name": "HTMLView",
            "description": "",
            "description_tooltip": null,
            "layout": "IPY_MODEL_e7d85e270eb34c2daf701bfd415bd09f",
            "placeholder": "​",
            "style": "IPY_MODEL_eb32f92d8ddc4c05931b038e66659663",
            "value": "Downloading: 100%"
          }
        },
        "8a60084abf2c48dfba63e79e8072a844": {
          "model_module": "@jupyter-widgets/controls",
          "model_module_version": "1.5.0",
          "model_name": "HTMLModel",
          "state": {
            "_dom_classes": [],
            "_model_module": "@jupyter-widgets/controls",
            "_model_module_version": "1.5.0",
            "_model_name": "HTMLModel",
            "_view_count": null,
            "_view_module": "@jupyter-widgets/controls",
            "_view_module_version": "1.5.0",
            "_view_name": "HTMLView",
            "description": "",
            "description_tooltip": null,
            "layout": "IPY_MODEL_a49f08b689064a01aca835113e7c895e",
            "placeholder": "​",
            "style": "IPY_MODEL_588262b260bf4fc5a21e0c641a34150b",
            "value": " 43.2k/43.2k [00:00&lt;00:00, 161kB/s]"
          }
        },
        "90965d7219f74877a22a317e173d0f78": {
          "model_module": "@jupyter-widgets/base",
          "model_module_version": "1.2.0",
          "model_name": "LayoutModel",
          "state": {
            "_model_module": "@jupyter-widgets/base",
            "_model_module_version": "1.2.0",
            "_model_name": "LayoutModel",
            "_view_count": null,
            "_view_module": "@jupyter-widgets/base",
            "_view_module_version": "1.2.0",
            "_view_name": "LayoutView",
            "align_content": null,
            "align_items": null,
            "align_self": null,
            "border": null,
            "bottom": null,
            "display": null,
            "flex": null,
            "flex_flow": null,
            "grid_area": null,
            "grid_auto_columns": null,
            "grid_auto_flow": null,
            "grid_auto_rows": null,
            "grid_column": null,
            "grid_gap": null,
            "grid_row": null,
            "grid_template_areas": null,
            "grid_template_columns": null,
            "grid_template_rows": null,
            "height": null,
            "justify_content": null,
            "justify_items": null,
            "left": null,
            "margin": null,
            "max_height": null,
            "max_width": null,
            "min_height": null,
            "min_width": null,
            "object_fit": null,
            "object_position": null,
            "order": null,
            "overflow": null,
            "overflow_x": null,
            "overflow_y": null,
            "padding": null,
            "right": null,
            "top": null,
            "visibility": null,
            "width": null
          }
        },
        "95b6665cffbe4685a4e755e2036125d4": {
          "model_module": "@jupyter-widgets/controls",
          "model_module_version": "1.5.0",
          "model_name": "HBoxModel",
          "state": {
            "_dom_classes": [],
            "_model_module": "@jupyter-widgets/controls",
            "_model_module_version": "1.5.0",
            "_model_name": "HBoxModel",
            "_view_count": null,
            "_view_module": "@jupyter-widgets/controls",
            "_view_module_version": "1.5.0",
            "_view_name": "HBoxView",
            "box_style": "",
            "children": [
              "IPY_MODEL_04a1af0d481546e5827e420811524e3c",
              "IPY_MODEL_96fbab1affaa4078bec61974c808e48a",
              "IPY_MODEL_019d0c515c8e40c9b4fd8a4b4573ec12"
            ],
            "layout": "IPY_MODEL_5d015d0d9f64401d9502b9edb119f874"
          }
        },
        "96fbab1affaa4078bec61974c808e48a": {
          "model_module": "@jupyter-widgets/controls",
          "model_module_version": "1.5.0",
          "model_name": "FloatProgressModel",
          "state": {
            "_dom_classes": [],
            "_model_module": "@jupyter-widgets/controls",
            "_model_module_version": "1.5.0",
            "_model_name": "FloatProgressModel",
            "_view_count": null,
            "_view_module": "@jupyter-widgets/controls",
            "_view_module_version": "1.5.0",
            "_view_name": "ProgressView",
            "bar_style": "success",
            "description": "",
            "description_tooltip": null,
            "layout": "IPY_MODEL_90965d7219f74877a22a317e173d0f78",
            "max": 8535,
            "min": 0,
            "orientation": "horizontal",
            "style": "IPY_MODEL_ed3c1c023785482081de1dde67d7694f",
            "value": 8535
          }
        },
        "9a8d2e1a118b4eb8944eb03a842d4718": {
          "model_module": "@jupyter-widgets/base",
          "model_module_version": "1.2.0",
          "model_name": "LayoutModel",
          "state": {
            "_model_module": "@jupyter-widgets/base",
            "_model_module_version": "1.2.0",
            "_model_name": "LayoutModel",
            "_view_count": null,
            "_view_module": "@jupyter-widgets/base",
            "_view_module_version": "1.2.0",
            "_view_name": "LayoutView",
            "align_content": null,
            "align_items": null,
            "align_self": null,
            "border": null,
            "bottom": null,
            "display": null,
            "flex": null,
            "flex_flow": null,
            "grid_area": null,
            "grid_auto_columns": null,
            "grid_auto_flow": null,
            "grid_auto_rows": null,
            "grid_column": null,
            "grid_gap": null,
            "grid_row": null,
            "grid_template_areas": null,
            "grid_template_columns": null,
            "grid_template_rows": null,
            "height": null,
            "justify_content": null,
            "justify_items": null,
            "left": null,
            "margin": null,
            "max_height": null,
            "max_width": null,
            "min_height": null,
            "min_width": null,
            "object_fit": null,
            "object_position": null,
            "order": null,
            "overflow": null,
            "overflow_x": null,
            "overflow_y": null,
            "padding": null,
            "right": null,
            "top": null,
            "visibility": null,
            "width": null
          }
        },
        "a49f08b689064a01aca835113e7c895e": {
          "model_module": "@jupyter-widgets/base",
          "model_module_version": "1.2.0",
          "model_name": "LayoutModel",
          "state": {
            "_model_module": "@jupyter-widgets/base",
            "_model_module_version": "1.2.0",
            "_model_name": "LayoutModel",
            "_view_count": null,
            "_view_module": "@jupyter-widgets/base",
            "_view_module_version": "1.2.0",
            "_view_name": "LayoutView",
            "align_content": null,
            "align_items": null,
            "align_self": null,
            "border": null,
            "bottom": null,
            "display": null,
            "flex": null,
            "flex_flow": null,
            "grid_area": null,
            "grid_auto_columns": null,
            "grid_auto_flow": null,
            "grid_auto_rows": null,
            "grid_column": null,
            "grid_gap": null,
            "grid_row": null,
            "grid_template_areas": null,
            "grid_template_columns": null,
            "grid_template_rows": null,
            "height": null,
            "justify_content": null,
            "justify_items": null,
            "left": null,
            "margin": null,
            "max_height": null,
            "max_width": null,
            "min_height": null,
            "min_width": null,
            "object_fit": null,
            "object_position": null,
            "order": null,
            "overflow": null,
            "overflow_x": null,
            "overflow_y": null,
            "padding": null,
            "right": null,
            "top": null,
            "visibility": null,
            "width": null
          }
        },
        "afddf4dd005c4ad69ba467fa3a7ac1a1": {
          "model_module": "@jupyter-widgets/controls",
          "model_module_version": "1.5.0",
          "model_name": "ProgressStyleModel",
          "state": {
            "_model_module": "@jupyter-widgets/controls",
            "_model_module_version": "1.5.0",
            "_model_name": "ProgressStyleModel",
            "_view_count": null,
            "_view_module": "@jupyter-widgets/base",
            "_view_module_version": "1.2.0",
            "_view_name": "StyleView",
            "bar_color": null,
            "description_width": ""
          }
        },
        "e0c5544113084c248aa0358a5e506bad": {
          "model_module": "@jupyter-widgets/controls",
          "model_module_version": "1.5.0",
          "model_name": "HBoxModel",
          "state": {
            "_dom_classes": [],
            "_model_module": "@jupyter-widgets/controls",
            "_model_module_version": "1.5.0",
            "_model_name": "HBoxModel",
            "_view_count": null,
            "_view_module": "@jupyter-widgets/controls",
            "_view_module_version": "1.5.0",
            "_view_name": "HBoxView",
            "box_style": "",
            "children": [
              "IPY_MODEL_7e92b933ac6b48b1b48035f8f573c219",
              "IPY_MODEL_f90bf80b70b946aa962ed237a7c3ea06",
              "IPY_MODEL_8a60084abf2c48dfba63e79e8072a844"
            ],
            "layout": "IPY_MODEL_9a8d2e1a118b4eb8944eb03a842d4718"
          }
        },
        "e5ef3050457445fa8dce19fcd0faaa71": {
          "model_module": "@jupyter-widgets/base",
          "model_module_version": "1.2.0",
          "model_name": "LayoutModel",
          "state": {
            "_model_module": "@jupyter-widgets/base",
            "_model_module_version": "1.2.0",
            "_model_name": "LayoutModel",
            "_view_count": null,
            "_view_module": "@jupyter-widgets/base",
            "_view_module_version": "1.2.0",
            "_view_name": "LayoutView",
            "align_content": null,
            "align_items": null,
            "align_self": null,
            "border": null,
            "bottom": null,
            "display": null,
            "flex": null,
            "flex_flow": null,
            "grid_area": null,
            "grid_auto_columns": null,
            "grid_auto_flow": null,
            "grid_auto_rows": null,
            "grid_column": null,
            "grid_gap": null,
            "grid_row": null,
            "grid_template_areas": null,
            "grid_template_columns": null,
            "grid_template_rows": null,
            "height": null,
            "justify_content": null,
            "justify_items": null,
            "left": null,
            "margin": null,
            "max_height": null,
            "max_width": null,
            "min_height": null,
            "min_width": null,
            "object_fit": null,
            "object_position": null,
            "order": null,
            "overflow": null,
            "overflow_x": null,
            "overflow_y": null,
            "padding": null,
            "right": null,
            "top": null,
            "visibility": null,
            "width": null
          }
        },
        "e7d85e270eb34c2daf701bfd415bd09f": {
          "model_module": "@jupyter-widgets/base",
          "model_module_version": "1.2.0",
          "model_name": "LayoutModel",
          "state": {
            "_model_module": "@jupyter-widgets/base",
            "_model_module_version": "1.2.0",
            "_model_name": "LayoutModel",
            "_view_count": null,
            "_view_module": "@jupyter-widgets/base",
            "_view_module_version": "1.2.0",
            "_view_name": "LayoutView",
            "align_content": null,
            "align_items": null,
            "align_self": null,
            "border": null,
            "bottom": null,
            "display": null,
            "flex": null,
            "flex_flow": null,
            "grid_area": null,
            "grid_auto_columns": null,
            "grid_auto_flow": null,
            "grid_auto_rows": null,
            "grid_column": null,
            "grid_gap": null,
            "grid_row": null,
            "grid_template_areas": null,
            "grid_template_columns": null,
            "grid_template_rows": null,
            "height": null,
            "justify_content": null,
            "justify_items": null,
            "left": null,
            "margin": null,
            "max_height": null,
            "max_width": null,
            "min_height": null,
            "min_width": null,
            "object_fit": null,
            "object_position": null,
            "order": null,
            "overflow": null,
            "overflow_x": null,
            "overflow_y": null,
            "padding": null,
            "right": null,
            "top": null,
            "visibility": null,
            "width": null
          }
        },
        "eb32f92d8ddc4c05931b038e66659663": {
          "model_module": "@jupyter-widgets/controls",
          "model_module_version": "1.5.0",
          "model_name": "DescriptionStyleModel",
          "state": {
            "_model_module": "@jupyter-widgets/controls",
            "_model_module_version": "1.5.0",
            "_model_name": "DescriptionStyleModel",
            "_view_count": null,
            "_view_module": "@jupyter-widgets/base",
            "_view_module_version": "1.2.0",
            "_view_name": "StyleView",
            "description_width": ""
          }
        },
        "ed3c1c023785482081de1dde67d7694f": {
          "model_module": "@jupyter-widgets/controls",
          "model_module_version": "1.5.0",
          "model_name": "ProgressStyleModel",
          "state": {
            "_model_module": "@jupyter-widgets/controls",
            "_model_module_version": "1.5.0",
            "_model_name": "ProgressStyleModel",
            "_view_count": null,
            "_view_module": "@jupyter-widgets/base",
            "_view_module_version": "1.2.0",
            "_view_name": "StyleView",
            "bar_color": null,
            "description_width": ""
          }
        },
        "ef8ef95adc93431b829f1fd87f9c5788": {
          "model_module": "@jupyter-widgets/base",
          "model_module_version": "1.2.0",
          "model_name": "LayoutModel",
          "state": {
            "_model_module": "@jupyter-widgets/base",
            "_model_module_version": "1.2.0",
            "_model_name": "LayoutModel",
            "_view_count": null,
            "_view_module": "@jupyter-widgets/base",
            "_view_module_version": "1.2.0",
            "_view_name": "LayoutView",
            "align_content": null,
            "align_items": null,
            "align_self": null,
            "border": null,
            "bottom": null,
            "display": null,
            "flex": null,
            "flex_flow": null,
            "grid_area": null,
            "grid_auto_columns": null,
            "grid_auto_flow": null,
            "grid_auto_rows": null,
            "grid_column": null,
            "grid_gap": null,
            "grid_row": null,
            "grid_template_areas": null,
            "grid_template_columns": null,
            "grid_template_rows": null,
            "height": null,
            "justify_content": null,
            "justify_items": null,
            "left": null,
            "margin": null,
            "max_height": null,
            "max_width": null,
            "min_height": null,
            "min_width": null,
            "object_fit": null,
            "object_position": null,
            "order": null,
            "overflow": null,
            "overflow_x": null,
            "overflow_y": null,
            "padding": null,
            "right": null,
            "top": null,
            "visibility": null,
            "width": null
          }
        },
        "f90bf80b70b946aa962ed237a7c3ea06": {
          "model_module": "@jupyter-widgets/controls",
          "model_module_version": "1.5.0",
          "model_name": "FloatProgressModel",
          "state": {
            "_dom_classes": [],
            "_model_module": "@jupyter-widgets/controls",
            "_model_module_version": "1.5.0",
            "_model_name": "FloatProgressModel",
            "_view_count": null,
            "_view_module": "@jupyter-widgets/controls",
            "_view_module_version": "1.5.0",
            "_view_name": "ProgressView",
            "bar_style": "success",
            "description": "",
            "description_tooltip": null,
            "layout": "IPY_MODEL_ef8ef95adc93431b829f1fd87f9c5788",
            "max": 43199,
            "min": 0,
            "orientation": "horizontal",
            "style": "IPY_MODEL_afddf4dd005c4ad69ba467fa3a7ac1a1",
            "value": 43199
          }
        }
      }
    }
  },
  "nbformat": 4,
  "nbformat_minor": 0
}
